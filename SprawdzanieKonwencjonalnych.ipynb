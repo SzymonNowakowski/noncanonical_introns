{
 "cells": [
  {
   "cell_type": "code",
   "execution_count": 1,
   "id": "signal-demand",
   "metadata": {
    "tags": []
   },
   "outputs": [],
   "source": [
    "import sys\n",
    "sys.path.append('/home/semik/projekty/noncanonical_introns/')\n",
    "\n",
    "import pathlib\n",
    "pathlib.Path().absolute()\n",
    "\n",
    "import introns\n",
    "import intron_comparison\n",
    "from collections import defaultdict\n",
    "\n",
    "genome_file = '/home/semik/projekty/noncanonical_introns/bugtest.fasta'\n",
    "genes_file = '/home/semik/projekty/noncanonical_introns/bugtest.gtf'\n",
    "introns_file = '/home/semik/projekty/noncanonical_introns/bugtest_introns.gtf'\n",
    "genome = introns.read_genome(genome_file)\n",
    "genes = introns.read_genes(genes_file)"
   ]
  },
  {
   "cell_type": "code",
   "execution_count": 2,
   "id": "excess-evidence",
   "metadata": {},
   "outputs": [
    {
     "name": "stdout",
     "output_type": "stream",
     "text": [
      "1: 1\n",
      "2: 2\n",
      "3: 3\n",
      "4: 4\n",
      "5: 5\n",
      "6: 6\n",
      "7: 7\n",
      "8: 8\n"
     ]
    }
   ],
   "source": [
    "'''\n",
    "kanoniczny1 = introns.Intron(\"nazwa\", 2, 17, sequence=\"GTAAAAAAAAAACAG\", margin_left_seq='AG', margin_right_seq='GT')\n",
    "kanoniczny2 = introns.Intron(\"nazwa\", 2, 17, sequence=\"GTAAAAAAAAAACAG\", margin_left_seq='G', margin_right_seq='G')\n",
    "kanoniczny3 = introns.Intron(\"nazwa\", 2, 17, sequence=\"GTAAAAAAAAAACAG\", margin_left_seq='', margin_right_seq='')\n",
    "kanoniczny4 = introns.Intron(\"nazwa\", 2, 17, sequence=\"GTAAAAAAAAAATAG\", margin_left_seq='', margin_right_seq='')\n",
    "kanoniczny5 = introns.Intron(\"nazwa\", 2, 17, sequence=\"GCAAAAAAAAAACAG\", margin_left_seq='AG', margin_right_seq='GT')\n",
    "kanoniczny6 = introns.Intron(\"nazwa\", 2, 17, sequence=\"GCAAAAAAAAAACAG\", margin_left_seq='G', margin_right_seq='G')\n",
    "kanoniczny7 = introns.Intron(\"nazwa\", 2, 17, sequence=\"GCAAAAAAAAAACAG\", margin_left_seq='', margin_right_seq='')\n",
    "kanoniczny8 = introns.Intron(\"nazwa\", 2, 17, sequence=\"GCAAAAAAAAAAGAG\", margin_left_seq='', margin_right_seq='')\n",
    "'''\n",
    "\n",
    "kanoniczny1 = introns.Intron(\"nazwa\", 2, 17, sequence=\"GTAAAAAAAAAACAG\", margin_left_seq='AG', margin_right_seq='GT')\n",
    "kanoniczny2 = introns.Intron(\"nazwa\", 2, 17, sequence=\"GTAAAAAAAAAACAG\", margin_left_seq='G', margin_right_seq='G')\n",
    "kanoniczny3 = introns.Intron(\"nazwa\", 2, 17, sequence=\"GTAAAAAAAAAACAG\", margin_left_seq='', margin_right_seq='')\n",
    "kanoniczny4 = introns.Intron(\"nazwa\", 2, 17, sequence=\"GTAAAAAAAAAATAG\", margin_left_seq='', margin_right_seq='')\n",
    "kanoniczny5 = introns.Intron(\"nazwa\", 2, 17, sequence=\"GCAAAAAAAAAACAG\", margin_left_seq='AG', margin_right_seq='GT')\n",
    "kanoniczny6 = introns.Intron(\"nazwa\", 2, 17, sequence=\"GCAAAAAAAAAACAG\", margin_left_seq='G', margin_right_seq='G')\n",
    "kanoniczny7 = introns.Intron(\"nazwa\", 2, 17, sequence=\"GCAAAAAAAAAACAG\", margin_left_seq='', margin_right_seq='')\n",
    "kanoniczny8 = introns.Intron(\"nazwa\", 2, 17, sequence=\"GCAAAAAAAAAAGAG\", margin_left_seq='', margin_right_seq='')\n",
    "\n",
    "for i,intron in [(1, kanoniczny1), (2, kanoniczny2), (3, kanoniczny3), (4, kanoniczny4), (5, kanoniczny5), (6, kanoniczny6), (7, kanoniczny7), (8, kanoniczny8)]:\n",
    "    intron.conventional_version()\n",
    "    print(\"%d:\" %i, intron.is_conventional)"
   ]
  },
  {
   "cell_type": "code",
   "execution_count": 3,
   "id": "chief-momentum",
   "metadata": {},
   "outputs": [
    {
     "name": "stdout",
     "output_type": "stream",
     "text": [
      "wariacje 1: 5 , wariacje 2: 5\n",
      "[(1, 4), (0, 5), (3, 2), (4, 1), (5, 0)]\n",
      "[('A', 'AAAA'), ('', 'AAAAA'), ('AAA', 'AA'), ('AAAA', 'A'), ('AAAAA', '')]\n"
     ]
    }
   ],
   "source": [
    "intronik = introns.Intron(\"nazwa\", 0, 20, margin_left=2, margin_right=3, sequence=\"AAAAAAAAAAAAAAAAAAAA\")\n",
    "intronik2 = introns.Intron(\"nazwa\", 2, 17, sequence=\"AAAAAAAAAAAAAAA\", margin_left_seq='AA', margin_right_seq='AAA')\n",
    "intronik.movable_boundary()\n",
    "intronik2.movable_boundary2()\n",
    "print(\"wariacje 1:\",len(intronik.variations),\", wariacje 2:\", len(intronik2.variations))\n",
    "print([(i.margin_left, i.margin_right) for i in intronik.variations])\n",
    "print([(i.margin_left_seq, i.margin_right_seq) for i in intronik2.variations])\n",
    "\n",
    "#print([(i.start, i.end) for i in intronik2.variations])"
   ]
  },
  {
   "cell_type": "code",
   "execution_count": 4,
   "id": "revolutionary-hawaiian",
   "metadata": {},
   "outputs": [],
   "source": [
    "for name, gene in genes.items():\n",
    "    gene.extract_sequence(genome)\n",
    "    gene.create_introns()\n",
    "    for intron in gene.introns:\n",
    "        intron.movable_boundary()\n",
    "        #print(name, \"sequence: \", intron.check_conventional())"
   ]
  },
  {
   "cell_type": "code",
   "execution_count": 5,
   "id": "agreed-twenty",
   "metadata": {},
   "outputs": [
    {
     "name": "stdout",
     "output_type": "stream",
     "text": [
      "False False\n",
      "False False\n",
      "False False\n",
      "False False\n",
      "False False\n",
      "False False\n",
      "False False\n",
      "False False\n",
      "False False\n",
      "False False\n",
      "False False\n",
      "False False\n",
      "False False\n",
      "False True\n",
      "False True\n",
      "False False\n",
      "False False\n",
      "False False\n",
      "False False\n",
      "False False\n",
      "False False\n",
      "False True\n"
     ]
    }
   ],
   "source": [
    "for name, gene in genes.items():\n",
    "    for intron in gene.introns:\n",
    "        print(intron.check_conventional(), intron.check_unconventional())"
   ]
  },
  {
   "cell_type": "code",
   "execution_count": 6,
   "id": "behavioral-scanning",
   "metadata": {},
   "outputs": [
    {
     "name": "stdout",
     "output_type": "stream",
     "text": [
      "STRG.10349.1 Backbone_42431 34332 34869\n",
      "STRG.23469.1 Backbone_16422 19738 20179\n",
      "STRG.26943.1 Backbone_27702 5991 6323\n",
      "STRG.56728.1 Backbone_6313 2584 3004\n",
      "STRG.63148.1 Backbone_13174 3308 3718\n",
      "STRG.88595.1 Backbone_27075 12309 12861\n",
      "STRG.88966.1 Backbone_28175 71421 71751\n",
      "STRG.98591.1 Backbone_63165 4298 4949\n",
      "STRG.101419.1 Backbone_76035 2888 3274\n",
      "STRG.116446.1 Backbone_52206 27859 28061\n",
      "STRG.118214.1 Backbone_59266 26843 27109\n",
      "STRG.138399.1 Backbone_55817 12402 12603\n",
      "STRG.143276.1 Backbone_75817 1029 1256\n",
      "STRG.161059.1 Backbone_63198 5177 5410\n",
      "STRG.186564.1 Backbone_83739 5483 6006\n",
      "STRG.187684.1 Backbone_10410 50126 50389\n",
      "STRG.199313.1 Backbone_48610 16136 16387\n",
      "STRG.205627.1 Backbone_75270 36904 37164\n"
     ]
    }
   ],
   "source": [
    "path=\"/mnt/archive/euglena_genomy/\"\n",
    "genom_EG=path+\"gracilis/gracilis_dbg2olc.fasta\"\n",
    "geny_EG=path+\"gracilis/gracilis_stringtie_strand_informed.gtf\"\n",
    "\n",
    "genome_EG = introns.read_genome(genom_EG)\n",
    "genes_EG = introns.read_genes(geny_EG)\n",
    "\n",
    "for name, gene in genes_EG.items():\n",
    "    gene.extract_sequence(genome_EG)\n",
    "    gene.create_introns()\n",
    "    for intron in gene.introns:\n",
    "        intron.movable_boundary()"
   ]
  },
  {
   "cell_type": "code",
   "execution_count": 7,
   "id": "civilian-brunei",
   "metadata": {},
   "outputs": [
    {
     "name": "stdout",
     "output_type": "stream",
     "text": [
      "Konwencjonalne: 8332, niekonwencjonalne: 164370, inne: 102554, wszystkie: 275256\n",
      "[0, 0, 1115, 899, 0, 0, 3530, 2788]\n"
     ]
    }
   ],
   "source": [
    "conv_count=0\n",
    "uconv_count=0\n",
    "c=[0,0,0,0,0,0,0,0]\n",
    "for name, gene in genes_EG.items():\n",
    "    for intron in gene.introns:\n",
    "        intron.conventional_version()\n",
    "        if intron.check_conventional():\n",
    "            conv_count+=1\n",
    "            if intron.is_conventional:\n",
    "                c[intron.is_conventional-1]+=1\n",
    "        if intron.check_unconventional():\n",
    "            uconv_count+=1\n",
    "        \n",
    "print(\"Konwencjonalne: %d, niekonwencjonalne: %d, inne: %d, wszystkie: %d\" %(conv_count,uconv_count,len(genes_EG)-conv_count-uconv_count,len(genes_EG)))\n",
    "print(c)"
   ]
  }
 ],
 "metadata": {
  "kernelspec": {
   "display_name": "Python 3",
   "language": "python",
   "name": "python3"
  },
  "language_info": {
   "codemirror_mode": {
    "name": "ipython",
    "version": 3
   },
   "file_extension": ".py",
   "mimetype": "text/x-python",
   "name": "python",
   "nbconvert_exporter": "python",
   "pygments_lexer": "ipython3",
   "version": "3.8.5"
  }
 },
 "nbformat": 4,
 "nbformat_minor": 5
}
