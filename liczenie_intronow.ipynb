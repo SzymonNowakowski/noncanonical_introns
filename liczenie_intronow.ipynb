{
 "cells": [
  {
   "cell_type": "code",
   "execution_count": 1,
   "id": "graphic-diploma",
   "metadata": {},
   "outputs": [],
   "source": [
    "import sys\n",
    "sys.path.append('/home/semik/projekty/noncanonical_introns/')\n",
    "\n",
    "import pathlib\n",
    "pathlib.Path().absolute()\n",
    "\n",
    "import introns\n",
    "import intron_comparison\n",
    "from collections import defaultdict\n",
    "from tabulate import tabulate"
   ]
  },
  {
   "cell_type": "code",
   "execution_count": 2,
   "id": "static-maximum",
   "metadata": {},
   "outputs": [],
   "source": [
    "path=\"/mnt/archive/euglena_genomy/\"\n",
    "path2=\"/home/semik/projekty/noncanonical_introns/\"\n",
    "\n",
    "genom_EG=path+\"gracilis/gracilis_dbg2olc.fasta\"\n",
    "geny_EG=path+\"gracilis/gracilis_stringtie_strand_informed.gtf\"\n",
    "geny_EG_rev=path2+\"gracilis_stringtie_strand_informed_reversed.gtf\"\n",
    "\n",
    "genom_EH=path+'hiemalis/hiemalis_rascaf.fasta'\n",
    "geny_EH=path+'hiemalis/stringtie_strand_informed3.gtf'\n",
    "geny_EH_rev=path2+\"stringtie_strand_informed3_reversed.gtf\"\n",
    "\n",
    "genom_EL=path+'longa/longa_rascaf.fasta'\n",
    "geny_EL=path+'longa/longa_stringtie_strand_informed.gtf'\n",
    "geny_EL_rev=path2+\"longa_stringtie_strand_informed_reversed.gtf\"\n",
    "\n",
    "genom_bugtest = '/home/semik/projekty/noncanonical_introns/bugtest.fasta'\n",
    "geny_bugtest = '/home/semik/projekty/noncanonical_introns/bugtest.gtf'\n",
    "geny_bugtest_rev = '/home/semik/projekty/noncanonical_introns/bugtest_reversed.gtf'"
   ]
  },
  {
   "cell_type": "code",
   "execution_count": 3,
   "id": "imperial-jason",
   "metadata": {},
   "outputs": [],
   "source": [
    "def create(genome,genes):\n",
    "    genome_eug = introns.read_genome(genome)\n",
    "    genes_eug = introns.read_genes(genes)\n",
    "\n",
    "    for name, gene in list(genes_eug.items()):\n",
    "        gene.extract_sequence(genome_eug)\n",
    "        gene.create_introns()\n",
    "        for intron in gene.introns:\n",
    "                intron.conventional_version()\n",
    "                intron.nonconventional_version()\n",
    "    return genome_eug,genes_eug\n",
    "\n",
    "def create_both(genome,genes,genes_rev):   \n",
    "    '''def create_genes(genes_type):\n",
    "        for name, gene in list(genes_type.items()):\n",
    "            gene.extract_sequence(genome_eug)\n",
    "            gene.create_introns()\n",
    "            for intron in gene.introns:\n",
    "                intron.conventional_version()\n",
    "                intron.nonconventional_version()'''\n",
    "\n",
    "    #genome_eug = introns.read_genome(genome)\n",
    "    #genes_eug = introns.read_genes(genes)\n",
    "    #genes_eug_rev = introns.read_genes(genes_rev)\n",
    "    \n",
    "    genome_eug, genes_eug = create(genome,genes)\n",
    "    genome_eug,genes_eug_rev = create(genome,genes_rev)\n",
    "    \n",
    "    return genome_eug,genes_eug, genes_eug_rev\n",
    "    \n",
    "def stats(genome_eug,genes_eug):  \n",
    "    conv_count=0\n",
    "    nconv_count=0\n",
    "    both_count=0\n",
    "    all_count=0\n",
    "    non_count=0\n",
    "    conventional_classes=[0,0,0,0,0,0,0,0]\n",
    "    nonconventional_classes=[0,0,0,0,0,0,0,0,0,0,0]\n",
    "\n",
    "    for name, gene in list(genes_eug.items()):\n",
    "        for intron in gene.introns:\n",
    "            all_count+=1\n",
    "\n",
    "            if intron.best_nonconv_var:\n",
    "                nonconventional_classes[intron.best_nonconv_var-1]+=1\n",
    "                nconv_count+=1\n",
    "\n",
    "            if intron.best_conv_var:\n",
    "                conventional_classes[intron.best_conv_var-1]+=1\n",
    "                conv_count+=1\n",
    "                if intron.best_nonconv_var:\n",
    "                    both_count+=1\n",
    "            elif not intron.best_nonconv_var:\n",
    "                non_count+=1\n",
    "    #print(\"\\nKonwencjonalne: %d, niekonwencjonalne: %d, oba: %d inne: %d, wszystkie: %d\" %(conv_count,nconv_count, both_count,non_count,all_count))\n",
    "    return conventional_classes, nonconventional_classes, conv_count,nconv_count, both_count,non_count,all_count"
   ]
  },
  {
   "cell_type": "code",
   "execution_count": 4,
   "id": "united-bradley",
   "metadata": {},
   "outputs": [
    {
     "name": "stdout",
     "output_type": "stream",
     "text": [
      "STRG.10349.1 Backbone_42431 34332 34869\n",
      "STRG.23469.1 Backbone_16422 19738 20179\n",
      "STRG.26943.1 Backbone_27702 5991 6323\n",
      "STRG.56728.1 Backbone_6313 2584 3004\n",
      "STRG.63148.1 Backbone_13174 3308 3718\n",
      "STRG.88595.1 Backbone_27075 12309 12861\n",
      "STRG.88966.1 Backbone_28175 71421 71751\n",
      "STRG.98591.1 Backbone_63165 4298 4949\n",
      "STRG.101419.1 Backbone_76035 2888 3274\n",
      "STRG.116446.1 Backbone_52206 27859 28061\n",
      "STRG.118214.1 Backbone_59266 26843 27109\n",
      "STRG.138399.1 Backbone_55817 12402 12603\n",
      "STRG.143276.1 Backbone_75817 1029 1256\n",
      "STRG.161059.1 Backbone_63198 5177 5410\n",
      "STRG.186564.1 Backbone_83739 5483 6006\n",
      "STRG.187684.1 Backbone_10410 50126 50389\n",
      "STRG.199313.1 Backbone_48610 16136 16387\n",
      "STRG.205627.1 Backbone_75270 36904 37164\n",
      "STRG.10349.1 Backbone_42431 34332 34869\n",
      "STRG.23469.1 Backbone_16422 19738 20179\n",
      "STRG.26943.1 Backbone_27702 5991 6323\n",
      "STRG.56728.1 Backbone_6313 2584 3004\n",
      "STRG.63148.1 Backbone_13174 3308 3718\n",
      "STRG.88595.1 Backbone_27075 12309 12861\n",
      "STRG.88966.1 Backbone_28175 71421 71751\n",
      "STRG.98591.1 Backbone_63165 4298 4949\n",
      "STRG.101419.1 Backbone_76035 2888 3274\n",
      "STRG.116446.1 Backbone_52206 27859 28061\n",
      "STRG.118214.1 Backbone_59266 26843 27109\n",
      "STRG.138399.1 Backbone_55817 12402 12603\n",
      "STRG.143276.1 Backbone_75817 1029 1256\n",
      "STRG.161059.1 Backbone_63198 5177 5410\n",
      "STRG.186564.1 Backbone_83739 5483 6006\n",
      "STRG.187684.1 Backbone_10410 50126 50389\n",
      "STRG.199313.1 Backbone_48610 16136 16387\n",
      "STRG.205627.1 Backbone_75270 36904 37164\n",
      "STRG.8632.1 scaffold_5860 36362 36570\n",
      "STRG.8632.1 scaffold_5860 36362 36570\n"
     ]
    }
   ],
   "source": [
    "genome_bugtest, genes_bugtest, genes_bugtest_rev = create_both(genom_bugtest, geny_bugtest, geny_bugtest_rev)\n",
    "genome_EG, genes_EG, genes_EG_rev = create_both(genom_EG, geny_EG, geny_EG_rev)\n",
    "genome_EH, genes_EH, genes_EH_rev = create_both(genom_EH, geny_EH, geny_EH_rev)\n",
    "genome_EL, genes_EL, genes_EL_rev = create_both(genom_EL, geny_EL, geny_EL_rev)"
   ]
  },
  {
   "cell_type": "code",
   "execution_count": 5,
   "id": "failing-complement",
   "metadata": {},
   "outputs": [],
   "source": [
    "def liczenie_intronow_dla_dwoch(genes, genes_rev):\n",
    "    l1, l2= [i[1] for i in list(genes.items())], [i[1] for i in list(genes_rev.items())]\n",
    "    print(\"dlugosci\", len(l1)==len(l2))\n",
    "    conv_l1, nonconv_l1, conv_l2, nonconv_l2 = 0,0,0,0\n",
    "    for i in range(len(l1)):\n",
    "        for j in range(len(l1[i].introns)):\n",
    "            int1,int2=l1[i].introns[j], l2[i].introns[j]\n",
    "            if int1.best_conv_var: conv_l1+=1\n",
    "            if int2.best_conv_var: conv_l2+=1\n",
    "            if int1.best_nonconv_var: nonconv_l1 += 1\n",
    "            if int2.best_nonconv_var: nonconv_l2 += 1\n",
    "    wynik=[[\"dobry kierunek\", conv_l1, nonconv_l1], [\"reversed\",conv_l2, nonconv_l2]]\n",
    "    headers=['konwencjonalne', 'niekonwencjonalne']\n",
    "    print(tabulate(wynik, headers=headers))\n",
    "    print(\"Czy jest wiecej konwencjonalnych w dobrym kierunku:\", conv_l1>conv_l2,\", czy jest wiecej niekonwencjonalnych:\", nonconv_l1>nonconv_l2)"
   ]
  },
  {
   "cell_type": "code",
   "execution_count": 6,
   "id": "consistent-softball",
   "metadata": {},
   "outputs": [
    {
     "name": "stdout",
     "output_type": "stream",
     "text": [
      "gracilis\n",
      "dlugosci True\n",
      "                  konwencjonalne    niekonwencjonalne\n",
      "--------------  ----------------  -------------------\n",
      "dobry kierunek            182332               391663\n",
      "reversed                  181901               389616\n",
      "Czy jest wiecej konwencjonalnych w dobrym kierunku: True , czy jest wiecej niekonwencjonalnych: True\n",
      "\n",
      "hiemalis\n",
      "dlugosci True\n",
      "                  konwencjonalne    niekonwencjonalne\n",
      "--------------  ----------------  -------------------\n",
      "dobry kierunek            169923               309659\n",
      "reversed                   43744               212135\n",
      "Czy jest wiecej konwencjonalnych w dobrym kierunku: True , czy jest wiecej niekonwencjonalnych: True\n",
      "\n",
      "longa\n",
      "dlugosci True\n",
      "                  konwencjonalne    niekonwencjonalne\n",
      "--------------  ----------------  -------------------\n",
      "dobry kierunek             46608                83165\n",
      "reversed                   41434                76158\n",
      "Czy jest wiecej konwencjonalnych w dobrym kierunku: True , czy jest wiecej niekonwencjonalnych: True\n"
     ]
    }
   ],
   "source": [
    "print('gracilis')\n",
    "liczenie_intronow_dla_dwoch(genes_EG, genes_EG_rev)\n",
    "print('\\nhiemalis')\n",
    "liczenie_intronow_dla_dwoch(genes_EH, genes_EH_rev)\n",
    "print('\\nlonga')\n",
    "liczenie_intronow_dla_dwoch(genes_EL, genes_EL_rev)"
   ]
  },
  {
   "cell_type": "code",
   "execution_count": 7,
   "id": "improving-video",
   "metadata": {
    "tags": []
   },
   "outputs": [],
   "source": [
    "Ms=[]\n",
    "#for name,genome,genes,genes_rev in [(\"bugtest reversed\", genom,geny,geny_rev)]:\n",
    "for name,genome,genes,genes_rev in [(\"bugtest reversed\", genome_bugtest, genes_bugtest, genes_bugtest_rev), (\"gracilis reversed\",genome_EG, genes_EG, genes_EG_rev), (\"hiemalis reversed\", genome_EH, genes_EH, genes_EH_rev), (\"longa reversed\",genome_EL, genes_EL, genes_EL_rev)]:\n",
    "    #genome_eug, genes_eug=create(genome,genes)\n",
    "    conventional_classes, nonconventional_classes, conv_count,nconv_count, both_count,non_count,all_count = stats(genome, genes)\n",
    "    #genome_eug, genes_eug_rev=create(genome,genes_rev)\n",
    "    conventional_classes_rev, nonconventional_classes_rev, conv_count_rev,nconv_count_rev, both_count_rev,non_count_rev,all_count_rev = stats(genome, genes_rev)\n",
    "    M=[name, [\"typ\",\"konwencjonalne\",\"niekonwencjonalne\",\"oba\",\"inne\",\"wszystkie\"],[\"dobre\",conv_count,nconv_count, both_count,non_count,all_count],[\"reversed\",conv_count_rev,nconv_count_rev, both_count_rev,non_count_rev,all_count_rev]]\n",
    "    Ms.append(M)"
   ]
  },
  {
   "cell_type": "code",
   "execution_count": 8,
   "id": "communist-remedy",
   "metadata": {},
   "outputs": [
    {
     "name": "stdout",
     "output_type": "stream",
     "text": [
      "\n",
      " bugtest reversed\n",
      "typ         konwencjonalne    niekonwencjonalne    oba    inne    wszystkie\n",
      "--------  ----------------  -------------------  -----  ------  -----------\n",
      "dobre                    5                   11      3       9           22\n",
      "reversed                 0                    6      0      16           22\n",
      "\n",
      " gracilis reversed\n",
      "typ         konwencjonalne    niekonwencjonalne    oba    inne    wszystkie\n",
      "--------  ----------------  -------------------  -----  ------  -----------\n",
      "dobre               182332               391663  58022  499714      1015687\n",
      "reversed            181901               389616  57760  501930      1015687\n",
      "\n",
      " hiemalis reversed\n",
      "typ         konwencjonalne    niekonwencjonalne    oba    inne    wszystkie\n",
      "--------  ----------------  -------------------  -----  ------  -----------\n",
      "dobre               169923               309659  53318  247726       673990\n",
      "reversed             43744               212135  14984  433095       673990\n",
      "\n",
      " longa reversed\n",
      "typ         konwencjonalne    niekonwencjonalne    oba    inne    wszystkie\n",
      "--------  ----------------  -------------------  -----  ------  -----------\n",
      "dobre                46608                83165  14426  105924       221271\n",
      "reversed             41434                76158  12995  116674       221271\n"
     ]
    }
   ],
   "source": [
    "for M in Ms:\n",
    "    print(\"\\n\", M[0])\n",
    "    print(tabulate(M[2:], headers=M[1]))"
   ]
  },
  {
   "cell_type": "code",
   "execution_count": 9,
   "id": "accredited-satin",
   "metadata": {},
   "outputs": [
    {
     "name": "stdout",
     "output_type": "stream",
     "text": [
      "\n",
      " gracilis\n",
      "Konwencjonalne: 182332, niekonwencjonalne: 391663, oba: 58022 inne: 499714, wszystkie: 1015687\n",
      "\n",
      " hiemalis\n",
      "Konwencjonalne: 169923, niekonwencjonalne: 309659, oba: 53318 inne: 247726, wszystkie: 673990\n",
      "\n",
      " longa\n",
      "Konwencjonalne: 46608, niekonwencjonalne: 83165, oba: 14426 inne: 105924, wszystkie: 221271\n"
     ]
    }
   ],
   "source": [
    "klasy,counts=[],[]\n",
    "for name,genome,genes in [(\"gracilis\",genome_EG, genes_EG), (\"hiemalis\", genome_EH, genes_EH), (\"longa\",genome_EL, genes_EL)]:\n",
    "#for name,genome,genes in [(\"gracilis reversed\",genom_EG,geny_EG_rev), (\"hiemalis reversed\", genom_EH,geny_EH_rev), (\"longa reversed\",genom_EL,geny_EL_rev)]:\n",
    "    print(\"\\n\",name)\n",
    "    conventional_classes, nonconventional_classes, conv_count,nconv_count, both_count,non_count,all_count = stats(genome,genes)\n",
    "    print(\"Konwencjonalne: %d, niekonwencjonalne: %d, oba: %d inne: %d, wszystkie: %d\" %(conv_count,nconv_count, both_count,non_count,all_count))\n",
    "    klasy.append([name,[i/all_count for i in conventional_classes],[i/all_count for i in nonconventional_classes]])\n",
    "    counts.append([name, conv_count/all_count,nconv_count/all_count, both_count/all_count,non_count/all_count,all_count])"
   ]
  },
  {
   "cell_type": "code",
   "execution_count": 10,
   "id": "subtle-tomorrow",
   "metadata": {},
   "outputs": [
    {
     "data": {
      "text/plain": [
       "<matplotlib.legend.Legend at 0x7f2a38c954f0>"
      ]
     },
     "execution_count": 10,
     "metadata": {},
     "output_type": "execute_result"
    },
    {
     "data": {
      "image/png": "[encoded data removed]",
      "text/plain": [
       "<Figure size 720x504 with 1 Axes>"
      ]
     },
     "metadata": {
      "needs_background": "light"
     },
     "output_type": "display_data"
    }
   ],
   "source": [
    "import numpy as np\n",
    "import matplotlib.pyplot as plt\n",
    "lista1=[i[1] for i in klasy]\n",
    "data=[[j*100 for j in l] for l in lista1]\n",
    "labels=[i[0] for i in klasy]\n",
    "X = np.arange(8)\n",
    "fig = plt.figure(figsize=(10,7))\n",
    "ax = fig.add_axes([0,0,1,1])\n",
    "r1=ax.bar(X + 0.00, data[0], color = 'b', width = 0.25)\n",
    "r2=ax.bar(X + 0.25, data[1], color = 'g', width = 0.25)\n",
    "r3=ax.bar(X + 0.50, data[2], color = 'r', width = 0.25)\n",
    "ax.set_title('Klasy intronow konwencjonalnych')\n",
    "ax.set_xlabel('Klasy konwencjonalne')\n",
    "ax.set_ylabel('% intronow')\n",
    "ax.set_xticks(X)\n",
    "ax.set_xticklabels(('Class 1', 'Class 2', 'Class 3', 'Class 4', 'Class 5', 'Class 6', 'Class 7', 'Class 8'))\n",
    "ax.legend(labels)"
   ]
  },
  {
   "cell_type": "code",
   "execution_count": 11,
   "id": "after-expense",
   "metadata": {},
   "outputs": [
    {
     "data": {
      "text/plain": [
       "<matplotlib.legend.Legend at 0x7f2a38b60b50>"
      ]
     },
     "execution_count": 11,
     "metadata": {},
     "output_type": "execute_result"
    },
    {
     "data": {
      "image/png": "[encoded data removed]",
      "text/plain": [
       "<Figure size 720x504 with 1 Axes>"
      ]
     },
     "metadata": {
      "needs_background": "light"
     },
     "output_type": "display_data"
    }
   ],
   "source": [
    "import numpy as np\n",
    "import matplotlib.pyplot as plt\n",
    "lista1=[i[2] for i in klasy]\n",
    "data=[[j*100 for j in l] for l in lista1]\n",
    "labels=[i[0] for i in klasy]\n",
    "Y = np.arange(11)\n",
    "fig = plt.figure(figsize=(10,7))\n",
    "ax = fig.add_axes([0,0,1,1])\n",
    "ax.bar(Y + 0.00, data[0], color = 'b', width = 0.25)\n",
    "ax.bar(Y + 0.25, data[1], color = 'g', width = 0.25)\n",
    "ax.bar(Y + 0.50, data[2], color = 'r', width = 0.25)\n",
    "ax.set_title('Klasy intronow niekonwencjonalnych')\n",
    "ax.set_xlabel('Klasy niekonwencjonalne')\n",
    "ax.set_ylabel('% intronow')\n",
    "ax.set_xticks(Y)\n",
    "ax.set_xticklabels(('Class 1', 'Class 2', 'Class 3', 'Class 4', 'Class 5', 'Class 6', 'Class 7', 'Class 8', 'Class 9', 'Class 10', 'Class 11'))\n",
    "ax.legend(labels)"
   ]
  },
  {
   "cell_type": "code",
   "execution_count": 12,
   "id": "laden-repository",
   "metadata": {},
   "outputs": [
    {
     "data": {
      "text/plain": [
       "<matplotlib.legend.Legend at 0x7f2a38af26a0>"
      ]
     },
     "execution_count": 12,
     "metadata": {},
     "output_type": "execute_result"
    },
    {
     "data": {
      "image/png": "[encoded data removed]",
      "text/plain": [
       "<Figure size 504x360 with 1 Axes>"
      ]
     },
     "metadata": {
      "needs_background": "light"
     },
     "output_type": "display_data"
    }
   ],
   "source": [
    "import numpy as np\n",
    "import matplotlib.pyplot as plt\n",
    "data=[[j*100 for j in l[1:-1]] for l in counts]\n",
    "labels=[i[0]+\", wszystkich intronow: \"+str(i[-1]) for i in counts]\n",
    "Z = np.arange(4)\n",
    "fig = plt.figure(figsize=(7,5))\n",
    "ax = fig.add_axes([0,0,1,1])\n",
    "ax.bar(Z + 0.00, data[0], color = 'b', width = 0.25)\n",
    "ax.bar(Z + 0.25, data[1], color = 'g', width = 0.25)\n",
    "ax.bar(Z + 0.50, data[2], color = 'r', width = 0.25)\n",
    "ax.set_title('Ilosci wszystkich intronow')\n",
    "ax.set_xlabel('Przynaleznosc do klas')\n",
    "ax.set_ylabel('% intronow')\n",
    "ax.set_xticks(Z)\n",
    "ax.set_xticklabels(('Conventional','Nonconventional', 'Both','Neither'))\n",
    "ax.legend(labels)"
   ]
  }
 ],
 "metadata": {
  "kernelspec": {
   "display_name": "Python 3",
   "language": "python",
   "name": "python3"
  },
  "language_info": {
   "codemirror_mode": {
    "name": "ipython",
    "version": 3
   },
   "file_extension": ".py",
   "mimetype": "text/x-python",
   "name": "python",
   "nbconvert_exporter": "python",
   "pygments_lexer": "ipython3",
   "version": "3.8.5"
  }
 },
 "nbformat": 4,
 "nbformat_minor": 5
}
