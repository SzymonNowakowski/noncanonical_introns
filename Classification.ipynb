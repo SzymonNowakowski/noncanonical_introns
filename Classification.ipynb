{
 "cells": [
  {
   "cell_type": "code",
   "execution_count": 1,
   "metadata": {},
   "outputs": [],
   "source": [
    "import sys  \n",
    "sys.path.insert(0, '/scratch/szym/introns/noncanonical_introns')\n",
    "\n",
    "import kmeans\n",
    "import random_forest"
   ]
  },
  {
   "cell_type": "code",
   "execution_count": 2,
   "metadata": {},
   "outputs": [],
   "source": [
    "from Bio.SeqIO.FastaIO import SimpleFastaParser\n",
    "from sklearn.cluster import KMeans\n",
    "import numpy as np"
   ]
  },
  {
   "cell_type": "code",
   "execution_count": 3,
   "metadata": {},
   "outputs": [
    {
     "name": "stdout",
     "output_type": "stream",
     "text": [
      "6741 10000\n"
     ]
    }
   ],
   "source": [
    "#head -n 20000 selected_introns.fasta > subset.fasta\n",
    "file = '/scratch/szym/introns/subset.fasta'\n",
    "with open(file, \"r\") as handle:\n",
    "    sequences = list(SimpleFastaParser(handle))\n",
    "\n",
    "types = np.zeros((len(sequences),), dtype=int)\n",
    "for i, s in enumerate(sequences):\n",
    "    #left_anchor = s[1][3:5]\n",
    "    #right_anchor = s[1][-5:-3]\n",
    "    #if left_anchor == 'GT' and right_anchor == 'AG' or left_anchor == 'CT' and right_anchor == 'AC':\n",
    "    class_signature=s[0][-2:]\n",
    "    if class_signature == \"KX\":    \n",
    "        # 0  for conventional intron\n",
    "        types[i] = (0)\n",
    "    else:\n",
    "        # 1 for nonconventional\n",
    "        types[i] = (1)\n",
    "        \n",
    "print(sum(types), len(types))"
   ]
  },
  {
   "cell_type": "markdown",
   "metadata": {},
   "source": [
    "### KMeans clustering of the introns with two different ways of sequence representation, using 4- and 7-mers converted to TF-IDF and different number of clusters"
   ]
  },
  {
   "cell_type": "code",
   "execution_count": 4,
   "metadata": {},
   "outputs": [
    {
     "name": "stdout",
     "output_type": "stream",
     "text": [
      "<class 'scipy.sparse.csr.csr_matrix'>\n"
     ]
    },
    {
     "name": "stderr",
     "output_type": "stream",
     "text": [
      "/usr/local/lib/python3.6/dist-packages/sklearn/cluster/_kmeans.py:793: FutureWarning: 'n_jobs' was deprecated in version 0.23 and will be removed in 1.0 (renaming of 0.25).\n",
      "  \" removed in 1.0 (renaming of 0.25).\", FutureWarning)\n",
      "/usr/local/lib/python3.6/dist-packages/sklearn/cluster/_kmeans.py:793: FutureWarning: 'n_jobs' was deprecated in version 0.23 and will be removed in 1.0 (renaming of 0.25).\n",
      "  \" removed in 1.0 (renaming of 0.25).\", FutureWarning)\n",
      "/usr/local/lib/python3.6/dist-packages/sklearn/cluster/_kmeans.py:793: FutureWarning: 'n_jobs' was deprecated in version 0.23 and will be removed in 1.0 (renaming of 0.25).\n",
      "  \" removed in 1.0 (renaming of 0.25).\", FutureWarning)\n",
      "/usr/local/lib/python3.6/dist-packages/sklearn/cluster/_kmeans.py:793: FutureWarning: 'n_jobs' was deprecated in version 0.23 and will be removed in 1.0 (renaming of 0.25).\n",
      "  \" removed in 1.0 (renaming of 0.25).\", FutureWarning)\n",
      "/usr/local/lib/python3.6/dist-packages/sklearn/cluster/_kmeans.py:793: FutureWarning: 'n_jobs' was deprecated in version 0.23 and will be removed in 1.0 (renaming of 0.25).\n",
      "  \" removed in 1.0 (renaming of 0.25).\", FutureWarning)\n",
      "/usr/local/lib/python3.6/dist-packages/sklearn/cluster/_kmeans.py:793: FutureWarning: 'n_jobs' was deprecated in version 0.23 and will be removed in 1.0 (renaming of 0.25).\n",
      "  \" removed in 1.0 (renaming of 0.25).\", FutureWarning)\n",
      "/usr/local/lib/python3.6/dist-packages/sklearn/cluster/_kmeans.py:793: FutureWarning: 'n_jobs' was deprecated in version 0.23 and will be removed in 1.0 (renaming of 0.25).\n",
      "  \" removed in 1.0 (renaming of 0.25).\", FutureWarning)\n"
     ]
    },
    {
     "name": "stdout",
     "output_type": "stream",
     "text": [
      "[[  1.   1.   1. ...   1.   1.   1.]\n",
      " [  3.   3.   3. ...   3.   3.   3.]\n",
      " [  1.   1.   1. ...   5.   5.   1.]\n",
      " ...\n",
      " [ 20.  26.  26. ...   0.   0.  29.]\n",
      " [ 11.  26.  26. ...   8.   8.  32.]\n",
      " [100.  43.  43. ...  61.  61.  93.]]\n"
     ]
    }
   ],
   "source": [
    "_,_,seq4 = kmeans.preprocess(0, 4, sequences)\n",
    "clusters4 = np.zeros((7, len(sequences)))\n",
    "for x in range(1,8):\n",
    "    n_clusters = 2**x\n",
    "    kmeans_model = KMeans(n_clusters=n_clusters, init='k-means++', max_iter=100, n_init=10, random_state=0, n_jobs=12)\n",
    "    kmeans_model.fit(seq4)\n",
    "    clusters4[x - 1] = kmeans_model.labels_\n",
    "print(clusters4)"
   ]
  },
  {
   "cell_type": "code",
   "execution_count": 5,
   "metadata": {},
   "outputs": [
    {
     "name": "stdout",
     "output_type": "stream",
     "text": [
      "<class 'scipy.sparse.csr.csr_matrix'>\n"
     ]
    },
    {
     "name": "stderr",
     "output_type": "stream",
     "text": [
      "/usr/local/lib/python3.6/dist-packages/sklearn/cluster/_kmeans.py:793: FutureWarning: 'n_jobs' was deprecated in version 0.23 and will be removed in 1.0 (renaming of 0.25).\n",
      "  \" removed in 1.0 (renaming of 0.25).\", FutureWarning)\n",
      "/usr/local/lib/python3.6/dist-packages/sklearn/cluster/_kmeans.py:793: FutureWarning: 'n_jobs' was deprecated in version 0.23 and will be removed in 1.0 (renaming of 0.25).\n",
      "  \" removed in 1.0 (renaming of 0.25).\", FutureWarning)\n",
      "/usr/local/lib/python3.6/dist-packages/sklearn/cluster/_kmeans.py:793: FutureWarning: 'n_jobs' was deprecated in version 0.23 and will be removed in 1.0 (renaming of 0.25).\n",
      "  \" removed in 1.0 (renaming of 0.25).\", FutureWarning)\n",
      "/usr/local/lib/python3.6/dist-packages/sklearn/cluster/_kmeans.py:793: FutureWarning: 'n_jobs' was deprecated in version 0.23 and will be removed in 1.0 (renaming of 0.25).\n",
      "  \" removed in 1.0 (renaming of 0.25).\", FutureWarning)\n",
      "/usr/local/lib/python3.6/dist-packages/sklearn/cluster/_kmeans.py:793: FutureWarning: 'n_jobs' was deprecated in version 0.23 and will be removed in 1.0 (renaming of 0.25).\n",
      "  \" removed in 1.0 (renaming of 0.25).\", FutureWarning)\n",
      "/usr/local/lib/python3.6/dist-packages/sklearn/cluster/_kmeans.py:793: FutureWarning: 'n_jobs' was deprecated in version 0.23 and will be removed in 1.0 (renaming of 0.25).\n",
      "  \" removed in 1.0 (renaming of 0.25).\", FutureWarning)\n",
      "/usr/local/lib/python3.6/dist-packages/sklearn/cluster/_kmeans.py:793: FutureWarning: 'n_jobs' was deprecated in version 0.23 and will be removed in 1.0 (renaming of 0.25).\n",
      "  \" removed in 1.0 (renaming of 0.25).\", FutureWarning)\n"
     ]
    },
    {
     "name": "stdout",
     "output_type": "stream",
     "text": [
      "[[  1.   1.   1. ...   1.   1.   1.]\n",
      " [  3.   3.   3. ...   3.   3.   3.]\n",
      " [  1.   1.   1. ...   5.   5.   1.]\n",
      " ...\n",
      " [ 20.  26.  26. ...   0.   0.  29.]\n",
      " [ 11.  26.  26. ...   8.   8.  32.]\n",
      " [100.  43.  43. ...  61.  61.  93.]]\n"
     ]
    }
   ],
   "source": [
    "_,_,seq7 = kmeans.preprocess(0, 7, sequences)\n",
    "clusters7 = np.zeros((7, len(sequences)))\n",
    "for x in range(1,8):\n",
    "    n_clusters = 2**x\n",
    "    kmeans_model = KMeans(n_clusters=n_clusters, init='k-means++', max_iter=100, n_init=10, random_state=0, n_jobs=12)\n",
    "    kmeans_model.fit(seq4)\n",
    "    clusters7[x - 1] = kmeans_model.labels_\n",
    "print(clusters7)"
   ]
  },
  {
   "cell_type": "code",
   "execution_count": 6,
   "metadata": {},
   "outputs": [],
   "source": [
    "def assess_cluster(clusters, n_of_clusters, true_classes):\n",
    "    clus_dict = dict([(x, [0, 0]) for x in range(n_of_clusters)])\n",
    "    for i, x in enumerate(clusters):\n",
    "        true_type = types[i]\n",
    "        clus_dict[int(x)][true_type] += 1    \n",
    "    \n",
    "    results = [[], []]\n",
    "    for i, x in enumerate(types):\n",
    "        cluster = clusters[i]\n",
    "        res = clus_dict[cluster][x] / sum(clus_dict[cluster])\n",
    "        results[int(x)].append(res)\n",
    "    print('conv: ')\n",
    "    print(sum(results[0]) / len(results[0]))\n",
    "    print('nonconv: ')\n",
    "    print(sum(results[1]) / len(results[1]))\n",
    "    return clus_dict"
   ]
  },
  {
   "cell_type": "markdown",
   "metadata": {},
   "source": [
    "### Each clustering is evaluated by measuring homogeneity of the clusters"
   ]
  },
  {
   "cell_type": "code",
   "execution_count": 7,
   "metadata": {},
   "outputs": [
    {
     "name": "stdout",
     "output_type": "stream",
     "text": [
      "Word length: 4, number of clusters: 2\n",
      "conv: \n",
      "0.327519030929496\n",
      "nonconv: \n",
      "0.6748827357661099\n",
      "\n",
      "\n",
      "Word length: 4, number of clusters: 4\n",
      "conv: \n",
      "0.32790181655515566\n",
      "nonconv: \n",
      "0.6750677970854801\n",
      "\n",
      "\n",
      "Word length: 4, number of clusters: 8\n",
      "conv: \n",
      "0.33194712671173565\n",
      "nonconv: \n",
      "0.6770235404173909\n",
      "\n",
      "\n",
      "Word length: 4, number of clusters: 16\n",
      "conv: \n",
      "0.35241632118945776\n",
      "nonconv: \n",
      "0.6869195654586138\n",
      "\n",
      "\n",
      "Word length: 4, number of clusters: 32\n",
      "conv: \n",
      "0.3638433227023758\n",
      "nonconv: \n",
      "0.6924440570667593\n",
      "\n",
      "\n",
      "Word length: 4, number of clusters: 64\n",
      "conv: \n",
      "0.37339158179982307\n",
      "nonconv: \n",
      "0.6970602529425365\n",
      "\n",
      "\n",
      "Word length: 4, number of clusters: 128\n",
      "conv: \n",
      "0.40776065177765697\n",
      "nonconv: \n",
      "0.7136763038337576\n",
      "\n",
      "\n",
      "Word length: 7, number of clusters: 2\n",
      "conv: \n",
      "0.327519030929496\n",
      "nonconv: \n",
      "0.6748827357661099\n",
      "\n",
      "\n",
      "Word length: 7, number of clusters: 4\n",
      "conv: \n",
      "0.32790181655515566\n",
      "nonconv: \n",
      "0.6750677970854801\n",
      "\n",
      "\n",
      "Word length: 7, number of clusters: 8\n",
      "conv: \n",
      "0.33194712671173565\n",
      "nonconv: \n",
      "0.6770235404173909\n",
      "\n",
      "\n",
      "Word length: 7, number of clusters: 16\n",
      "conv: \n",
      "0.35241632118945776\n",
      "nonconv: \n",
      "0.6869195654586138\n",
      "\n",
      "\n",
      "Word length: 7, number of clusters: 32\n",
      "conv: \n",
      "0.3638433227023758\n",
      "nonconv: \n",
      "0.6924440570667593\n",
      "\n",
      "\n",
      "Word length: 7, number of clusters: 64\n",
      "conv: \n",
      "0.37339158179982307\n",
      "nonconv: \n",
      "0.6970602529425365\n",
      "\n",
      "\n",
      "Word length: 7, number of clusters: 128\n",
      "conv: \n",
      "0.40776065177765697\n",
      "nonconv: \n",
      "0.7136763038337576\n",
      "\n",
      "\n"
     ]
    }
   ],
   "source": [
    "for x in range(1,8):\n",
    "    n_of_clusters =  2**x\n",
    "    print('Word length: 4, number of clusters: %d' % (n_of_clusters))\n",
    "    assess_cluster(clusters4[x-1], n_of_clusters, types)\n",
    "    print('\\n')\n",
    "\n",
    "for x in range(1,8):\n",
    "    n_of_clusters =  2**x\n",
    "    print('Word length: 7, number of clusters: %d' % (n_of_clusters))\n",
    "    assess_cluster(clusters7[x-1], n_of_clusters, types)\n",
    "    print('\\n') "
   ]
  },
  {
   "cell_type": "markdown",
   "metadata": {},
   "source": [
    "### Then the sequences are classified by random forests. K-mers ranging from 4 to 11 are used for representation and for each length the classification is done twice - using whole sequences or without the junctions that were used to divide them into conventional or nonconventional."
   ]
  },
  {
   "cell_type": "code",
   "execution_count": 8,
   "metadata": {},
   "outputs": [
    {
     "name": "stdout",
     "output_type": "stream",
     "text": [
      "\n",
      "len of ogligonucleotides:  4\n",
      "uncut sequences: \n",
      "0.8581666666666665\n",
      "conventional splices cut: \n",
      "0.8604666666666667\n",
      "\n",
      "len of ogligonucleotides:  5\n",
      "uncut sequences: \n",
      "0.8584333333333335\n",
      "conventional splices cut: \n",
      "0.8606\n"
     ]
    }
   ],
   "source": [
    "#file = 'data/good_introns50+3.fasta'\n",
    "#with open(file, \"r\") as handle:\n",
    "#    sequences = list(SimpleFastaParser(handle))\n",
    "\n",
    "#types = []\n",
    "#for s in sequences:\n",
    "#    left_anchor = s[1][3:5]\n",
    "#    right_anchor = s[1][-5:-3]\n",
    "#    if left_anchor == 'GT' and right_anchor == 'AG' or left_anchor == 'CT' and right_anchor == 'AC':\n",
    "#        types.append(0)\n",
    "#    else:\n",
    "#        types.append(1)\n",
    "\n",
    "\n",
    "for n in range(4, 6):\n",
    "    print('\\nlen of ogligonucleotides: ', n)\n",
    "    for cut in range(2):\n",
    "        if cut == 0:\n",
    "            print('uncut sequences: ')\n",
    "        if cut == 1:\n",
    "            print('conventional splices cut: ')\n",
    "        data = random_forest.preprocess(cut, n, sequences)\n",
    "        acc = random_forest.forest(10, data, types)\n",
    "        print(str(acc))\n",
    "        "
   ]
  },
  {
   "cell_type": "code",
   "execution_count": 10,
   "metadata": {},
   "outputs": [
    {
     "name": "stdout",
     "output_type": "stream",
     "text": [
      "<class 'scipy.sparse.csr.csr_matrix'>\n",
      "GTGC TGCG GCGT CGTT GTTG TTGC TGCC GCCT CCTG CTGT TGTG GTGT TGTG GTGA TGAC GACC ACCC CCCC CCCA CCAA CAAT AATT ATTC TTCC TCCA CCAG CAGA AGAT GATT ATTT TTTT TTTG TTGG TGGG GGGA GGAA GAAT AATG ATGC TGCC GCCA CCAA CAAC AACG ACGT CGTA GTAA TAAT AATG ATGC TGCC GCCA CCAA CAAC AACA ACAT CATG ATGG TGGG GGGA GGAA GAAA AAAA AAAA AAAA AAAT AATC ATCA TCAC CACC ACCC CCCT CCTT CTTG TTGA TGAA GAAA AAAA AAAG AAGA AGAT GATG ATGG TGGA GGAG GAGA AGAA GAAT AATT ATTG TTGG TGGG GGGT GGTT GTTC TTCC TCCG CCGG CGGA GGAC GACC ACCC CCCA CCAA CAAT AATT ATTT TTTT TTTA TTAC TACC ACCC CCCT CCTA CTAC TACA ACAC CACC ACCC CCCT CCTA CTAT TATA ATAA TAAG AAGA AGAG GAGA AGAT GATG ATGT TGTT GTTC TTCT TCTA CTAC TACT ACTT CTTT TTTC TTCA TCAG CAGG AGGT GGTC GTCT TCTC CTCT TCTT CTTT TTTT TTTT TTTA TTAT TATT ATTG TTGT TGTT GTTT TTTC TTCT TCTG CTGG TGGA GGAT GATG ATGT TGTA GTAG TAGT AGTT GTTT TTTG TTGG TGGT GGTG GTGC TGCC GCCT CCTA CTAG TAGC AGCT GCTT CTTT TTTG TTGA TGAC GACC ACCT CCTC CTCA TCAT CATG ATGA TGAC GACC ACCC CCCC CCCA CCAA CAAA AAAC AACA ACAG CAGG AGGC GGCT GCTT CTTT TTTT TTTG TTGC TGCT GCTT CTTT TTTA TTAG TAGG AGGG GGGT GGTT GTTC TTCC TCCC CCCT CCTC CTCC TCCC CCCG CCGG CGGG GGGG GGGG GGGG GGGG GGGG GGGG GGGG GGGG GGGG GGGA GGAA GAAG AAGC AGCT GCTG CTGG TGGA GGAC GACT ACTG CTGC TGCA GCAG CAGC AGCT GCTG CTGG TGGT GGTC GTCC TCCA CCAT CATA ATAT TATT ATTT TTTG TTGG TGGT GGTT GTTA TTAG TAGC AGCA GCAG CAGG AGGA GGAG GAGT AGTC GTCC TCCC CCCA CCAG CAGC AGCG GCGG CGGA GGAC GACC ACCC CCCC CCCT CCTC CTCG TCGG CGGA GGAG GAGG AGGA GGAG GAGG AGGT GGTC GTCC TCCC CCCC CCCT CCTA CTAG TAGG AGGA GGAG GAGG AGGG GGGC GGCT GCTA CTAG TAGG AGGG GGGC GGCT GCTA CTAG TAGG AGGC GGCT GCTA CTAG TAGT AGTG GTGG TGGA GGAA GAAT AATT ATTT TTTT TTTT TTTT TTTT TTTT TTTT TTTT TTTC TTCA TCAG CAGT AGTG GTGA TGAC GACC ACCG CCGG CGGC GGCA GCAC CACA ACAA CAAA AAAG AAGC AGCG GCGC CGCC GCCG CCGG CGGA GGAA GAAA AAAA AAAT AATT ATTT TTTT TTTT TTTA TTAG TAGG AGGA GGAC GACC ACCC CCCC CCCC CCCC CCCA CCAA CAAA AAAA AAAT AATG ATGG TGGC GGCC GCCA CCAA CAAA AAAA AAAC AACT ACTG CTGA TGAC GACC ACCA CCAT CATT ATTT TTTT TTTG TTGG TGGC GGCT GCTA CTAT TATT ATTT TTTT TTTT TTTT TTTG TTGG TGGA GGAT GATT ATTT TTTT TTTT TTTT TTTT TTTT TTTT TTTG TTGG TGGG GGGA GGAA GAAG AAGT AGTT GTTA TTAA TAAT AATC ATCA TCAG CAGC AGCC GCCA CCAA CAAA AAAA AAAA AAAA AAAA AAAC AACC ACCC CCCA CCAA CAAT AATT ATTG TTGA TGAA GAAA AAAC AACG ACGC CGCC GCCA CCAT CATT ATTT TTTC TTCC TCCA CCAC CACC ACCT CCTT CTTG TTGG TGGT GGTG GTGC TGCG GCGC CGCA GCAG CAGC AGCG GCGT CGTT GTTG TTGG TGGA GGAG GAGG AGGG GGGA GGAA GAAA AAAA AAAT AATG ATGT TGTT GTTT TTTT TTTC TTCC TCCA CCAG CAGC AGCT GCTG CTGG TGGA GGAG GAGG AGGG GGGA GGAA GAAC AACC ACCC CCCC CCCC CCCC CCCC CCCC CCCC CCCC CCCC CCCC CCCC CCCG CCGG CGGG GGGA GGAG GAGA AGAG GAGG AGGG GGGG GGGG GGGT GGTC GTCT TCTA CTAG TAGC AGCC GCCA CCAG CAGT AGTC GTCC TCCA CCAA CAAT AATT ATTT TTTT TTTT TTTC TTCC TCCA CCAG CAGT AGTA GTAT TATT ATTT TTTA TTAG TAGC AGCA GCAA CAAA AAAA AAAT AATG ATGG TGGC GGCT GCTA CTAG TAGC AGCC GCCA CCAA CAAC AACG ACGG CGGA GGAC GACT ACTA CTAA TAAC AACC ACCC CCCC CCCG CCGG CGGG GGGT GGTC GTCC TCCT CCTT CTTA TTAA TAAG AAGC AGCA GCAA CAAT AATG ATGG TGGC GGCC GCCT CCTG CTGT TGTC GTCT TCTC CTCA TCAG CAGA AGAA GAAG AAGC AGCT GCTT CTTC TTCT TCTG CTGC TGCC GCCA CCAA CAAA AAAT AATT ATTT TTTT TTTT TTTC TTCG TCGA CGAG GAGA AGAT GATG ATGA TGAA GAAA AAAA AAAC AACC ACCT CCTA CTAC TACC ACCT CCTC CTCA TCAT CATA ATAA TAAA AAAA AAAT AATA ATAC TACA ACAC CACA ACAA CAAG AAGA AGAA GAAA AAAA AAAC AACA ACAT CATT ATTT TTTC TTCT TCTC CTCA TCAG CAGA AGAT GATT ATTG TTGG TGGT GGTA GTAA TAAT AATC ATCT TCTT CTTT TTTA TTAA TAAA AAAT AATG ATGG TGGT GGTT GTTG TTGG TGGT GGTT GTTG TTGG TGGA GGAG GAGC AGCC GCCG CCGG CGGG GGGA GGAG GAGG AGGC GGCA GCAT CATA ATAT TATT ATTT TTTT TTTT TTTT TTTT TTTT TTTG TTGA TGAG GAGT AGTT GTTA TTAA TAAA AAAA AAAA AAAC AACT ACTG CTGG TGGT GGTG GTGA TGAT GATG ATGT TGTC GTCT TCTC CTCA TCAC CACA ACAG CAGG AGGG GGGG GGGA GGAG GAGG AGGG GGGC GGCC GCCG CCGC CGCC GCCT CCTA CTAA TAAC AACG ACGT CGTT GTTG TTGT TGTT GTTT TTTT TTTT TTTT TTTC TTCC TCCC CCCG CCGA CGAC GACG ACGT CGTT GTTT TTTT TTTT TTTA TTAA TAAA AAAG AAGG AGGT GGTT GTTT TTTT TTTT TTTT TTTT TTTC TTCC TCCC CCCC CCCT CCTT CTTC TTCA TCAT CATC ATCT TCTC CTCT TCTC CTCC TCCC CCCT CCTG CTGT TGTT GTTG TTGT TGTG GTGG TGGG GGGG GGGG GGGG GGGG GGGG GGGG GGGG GGGT GGTC GTCC TCCT CCTG CTGC TGCA GCAA CAAA AAAA AAAT AATT ATTT TTTA TTAG TAGT AGTT GTTG TTGG TGGG GGGT GGTG GTGG TGGG GGGG GGGG GGGT GGTG GTGA TGAT GATC ATCA TCAG CAGC AGCG GCGC CGCC GCCC CCCT CCTC CTCT TCTT CTTC TTCT TCTT CTTG TTGG TGGA GGAA GAAA AAAT AATA ATAT TATT ATTG TTGT TGTC GTCT TCTG CTGA TGAA GAAA AAAC AACT ACTG CTGT TGTG GTGG TGGT GGTT GTTG TTGG TGGG GGGC GGCT GCTG CTGG TGGT GGTT GTTA TTAT TATT ATTG TTGA TGAA GAAA AAAA AAAT AATC ATCC TCCC CCCT CCTG CTGA TGAC GACA ACAT CATA ATAA TAAC AACG ACGA CGAT GATA ATAG TAGC AGCA GCAG CAGC AGCC GCCC CCCC CCCG CCGT CGTT GTTT TTTC TTCT TCTT CTTA TTAT TATG ATGT TGTA GTAG TAGC AGCG GCGG CGGG GGGG GGGG GGGG GGGG GGGG GGGG GGGG GGGG GGGT GGTA GTAT TATA ATAT TATT ATTG TTGC TGCT GCTG CTGT TGTG GTGG TGGT GGTT GTTT TTTT TTTC TTCC TCCC CCCG CCGC CGCA GCAG CAG AG\n",
      "GTGCGTTGCCTGTGTGACCCCAATTCCAGATTTTGGGAATGCCAACGTAATGCCAACATGGGAAAAAATCACCCTTGAAAAGATGGAGAATTGGGTTCCGGACCCAATTTTACCCTACACCCTATAAGAGATGTTCTACTTTCAGGTCTCTTTTTATTGTTTCTGGATGTAGTTTGGTGCCTAGCTTTGACCTCATGACCCCAAACAGGCTTTTGCTTTAGGGTTCCCTCCCGGGGGGGGGGGGAAGCTGGACTGCAGCTGGTCCATATTTGGTTAGCAGGAGTCCCAGCGGACCCCTCGGAGGAGGTCCCCTAGGAGGGCTAGGGCTAGGCTAGTGGAATTTTTTTTTTCAGTGACCGGCACAAAGCGCCGGAAAATTTTTAGGACCCCCCAAAATGGCCAAAACTGACCATTTTGGCTATTTTTTGGATTTTTTTTTGGGAAGTTAATCAGCCAAAAAAACCCAATTGAAACGCCATTTCCACCTTGGTGCGCAGCGTTGGAGGGAAAATGTTTTCCAGCTGGAGGGAACCCCCCCCCCCCCGGGAGAGGGGGTCTAGCCAGTCCAATTTTTCCAGTATTTAGCAAAATGGCTAGCCAACGGACTAACCCCGGGTCCTTAAGCAATGGCCTGTCTCAGAAGCTTCTGCCAAATTTTTCGAGATGAAAACCTACCTCATAAAATACACAAGAAAACATTTCTCAGATTGGTAATCTTTAAATGGTTGGTTGGAGCCGGGAGGCATATTTTTTTTGAGTTAAAAACTGGTGATGTCTCACAGGGGAGGGCCGCCTAACGTTGTTTTTTCCCGACGTTTTTAAAGGTTTTTTTCCCCTTCATCTCTCCCTGTTGTGGGGGGGGGGTCCTGCAAAATTTAGTTGGGTGGGGGTGATCAGCGCCCTCTTCTTGGAAATATTGTCTGAAACTGTGGTTGGGCTGGTTATTGAAAATCCCTGACATAACGATAGCAGCCCCGTTTCTTATGTAGCGGGGGGGGGGGTATATTGCTGTGGTTTTCCCGCAG\n",
      "  (0, 41)\t0.02053989922960876\n",
      "  (0, 93)\t0.023105627777221138\n",
      "  (0, 235)\t0.01744751877438359\n",
      "  (0, 178)\t0.018986288436658158\n",
      "  (0, 211)\t0.016758320343968444\n",
      "  (0, 53)\t0.01825452811840597\n",
      "  (0, 95)\t0.03311512032800613\n",
      "  (0, 154)\t0.018164237519235866\n",
      "  (0, 238)\t0.018087564614397172\n",
      "  (0, 308)\t0.016932680022353874\n",
      "  (0, 262)\t0.022480406292278148\n",
      "  (0, 116)\t0.017643220480990422\n",
      "  (0, 204)\t0.05647297580276289\n",
      "  (0, 33)\t0.02074067129067354\n",
      "  (0, 51)\t0.03894648035870117\n",
      "  (0, 25)\t0.07242490932284501\n",
      "  (0, 248)\t0.015401258321854105\n",
      "  (0, 325)\t0.03198846691324618\n",
      "  (0, 99)\t0.04007433339791446\n",
      "  (0, 217)\t0.10118429559236362\n",
      "  (0, 253)\t0.021269314926571904\n",
      "  (0, 230)\t0.022356573503298862\n",
      "  (0, 58)\t0.023831907726779154\n",
      "  (0, 44)\t0.020067135793880215\n",
      "  (0, 6)\t0.03470664641967435\n",
      "  :\t:\n",
      "  (9999, 121)\t0.07081197516412031\n",
      "  (9999, 298)\t0.01757896217064574\n",
      "  (9999, 163)\t0.038129384470410234\n",
      "  (9999, 289)\t0.018958560438987283\n",
      "  (9999, 320)\t0.0555104168045443\n",
      "  (9999, 123)\t0.037821098989207054\n",
      "  (9999, 196)\t0.018943181322529753\n",
      "  (9999, 215)\t0.037089312349193514\n",
      "  (9999, 303)\t0.017961195488500673\n",
      "  (9999, 75)\t0.018776877087229662\n",
      "  (9999, 184)\t0.019878753851977415\n",
      "  (9999, 319)\t0.02047206378316306\n",
      "  (9999, 61)\t0.12104846865512214\n",
      "  (9999, 180)\t0.06327755329479307\n",
      "  (9999, 294)\t0.039409095203742535\n",
      "  (9999, 205)\t0.053796901955995\n",
      "  (9999, 299)\t0.020398268420288412\n",
      "  (9999, 329)\t0.11934608986909824\n",
      "  (9999, 164)\t0.054621261003143816\n",
      "  (9999, 206)\t0.01911899346484786\n",
      "  (9999, 300)\t0.0737377824138179\n",
      "  (9999, 323)\t0.07155622238172775\n",
      "  (9999, 247)\t0.017990142381937354\n",
      "  (9999, 310)\t0.07085467903464111\n",
      "  (9999, 243)\t0.03565956610916857\n"
     ]
    }
   ],
   "source": [
    "###VISUALISATION OF WHAT IS HAPPENNING\n",
    "sequences_cut, split_seqs, seq4 = kmeans.preprocess(0, 4, sequences)\n",
    "print(split_seqs[1])\n",
    "print(sequences_cut[1])\n",
    "print(seq4)"
   ]
  },
  {
   "cell_type": "code",
   "execution_count": 11,
   "metadata": {},
   "outputs": [
    {
     "name": "stdout",
     "output_type": "stream",
     "text": [
      "  (0, 1)\t0.46979138557992045\n",
      "  (0, 2)\t0.5802858236844359\n",
      "  (0, 6)\t0.38408524091481483\n",
      "  (0, 3)\t0.38408524091481483\n",
      "  (0, 8)\t0.38408524091481483\n",
      "  (1, 5)\t0.5386476208856763\n",
      "  (1, 1)\t0.6876235979836938\n",
      "  (1, 6)\t0.281088674033753\n",
      "  (1, 3)\t0.281088674033753\n",
      "  (1, 8)\t0.281088674033753\n",
      "  (2, 4)\t0.511848512707169\n",
      "  (2, 7)\t0.511848512707169\n",
      "  (2, 0)\t0.511848512707169\n",
      "  (2, 6)\t0.267103787642168\n",
      "  (2, 3)\t0.267103787642168\n",
      "  (2, 8)\t0.267103787642168\n",
      "  (3, 1)\t0.46979138557992045\n",
      "  (3, 2)\t0.5802858236844359\n",
      "  (3, 6)\t0.38408524091481483\n",
      "  (3, 3)\t0.38408524091481483\n",
      "  (3, 8)\t0.38408524091481483\n",
      "['and', 'document', 'first', 'is', 'one', 'second', 'the', 'third', 'this']\n",
      "0 document 0.46979138557992045\n",
      "0 first 0.5802858236844359\n",
      "0 is 0.38408524091481483\n",
      "0 the 0.38408524091481483\n",
      "0 this 0.38408524091481483\n",
      "1 document 0.6876235979836938\n",
      "1 is 0.281088674033753\n",
      "1 second 0.5386476208856763\n",
      "1 the 0.281088674033753\n",
      "1 this 0.281088674033753\n",
      "2 and 0.511848512707169\n",
      "2 is 0.267103787642168\n",
      "2 one 0.511848512707169\n",
      "2 the 0.267103787642168\n",
      "2 third 0.511848512707169\n",
      "2 this 0.267103787642168\n",
      "3 document 0.46979138557992045\n",
      "3 first 0.5802858236844359\n",
      "3 is 0.38408524091481483\n",
      "3 the 0.38408524091481483\n",
      "3 this 0.38408524091481483\n"
     ]
    }
   ],
   "source": [
    "###VISUALISATION OF LIBRARY WORKING\n",
    "\n",
    "from sklearn.feature_extraction.text import TfidfVectorizer\n",
    "corpus = [\n",
    "     'This is the first document.',\n",
    "     'This document is the second document.',\n",
    "     'And this is the third one.',\n",
    "     'Is this the first document?',\n",
    "]\n",
    "vectorizer = TfidfVectorizer()\n",
    "X = vectorizer.fit_transform(corpus)\n",
    "print(X)\n",
    "print(vectorizer.get_feature_names())\n",
    "for s in range(4):\n",
    "    for ind, word in enumerate(vectorizer.get_feature_names()):\n",
    "         if X[s, ind] != 0:\n",
    "             print(s, word, X[s, ind])"
   ]
  },
  {
   "cell_type": "code",
   "execution_count": null,
   "metadata": {},
   "outputs": [],
   "source": []
  }
 ],
 "metadata": {
  "kernelspec": {
   "display_name": "Python 3",
   "language": "python",
   "name": "python3"
  },
  "language_info": {
   "codemirror_mode": {
    "name": "ipython",
    "version": 3
   },
   "file_extension": ".py",
   "mimetype": "text/x-python",
   "name": "python",
   "nbconvert_exporter": "python",
   "pygments_lexer": "ipython3",
   "version": "3.6.9"
  }
 },
 "nbformat": 4,
 "nbformat_minor": 4
}
