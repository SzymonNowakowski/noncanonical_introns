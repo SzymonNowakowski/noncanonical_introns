{
 "cells": [
  {
   "cell_type": "code",
   "execution_count": 1,
   "metadata": {},
   "outputs": [],
   "source": [
    "import my_kmeans\n",
    "import random_forest"
   ]
  },
  {
   "cell_type": "code",
   "execution_count": 33,
   "metadata": {},
   "outputs": [],
   "source": [
    "from Bio.SeqIO.FastaIO import SimpleFastaParser\n",
    "from sklearn.cluster import KMeans\n",
    "import numpy as np\n",
    "\n",
    "file = 'data/good_introns50+3.fasta'\n",
    "with open(file, \"r\") as handle:\n",
    "    sequences = list(SimpleFastaParser(handle))\n",
    "\n",
    "types = np.zeros((len(sequences),), dtype=int)\n",
    "for i, s in enumerate(sequences):\n",
    "    left_anchor = s[1][3:5]\n",
    "    right_anchor = s[1][-5:-3]\n",
    "    if left_anchor == 'GT' and right_anchor == 'AG' or left_anchor == 'CT' and right_anchor == 'AC':\n",
    "        # 0  forcovetional intron\n",
    "        types[i] = (0)\n",
    "    else:\n",
    "        # 1 for nonconventional\n",
    "        types[i] = (1)"
   ]
  },
  {
   "cell_type": "markdown",
   "metadata": {},
   "source": [
    "### KMeans clustering of the introns with two different ways of sequence representation, using 4- and 7-mers converted to TF-IDF and different number of clusters"
   ]
  },
  {
   "cell_type": "code",
   "execution_count": 8,
   "metadata": {},
   "outputs": [
    {
     "name": "stdout",
     "output_type": "stream",
     "text": [
      "[[  0.   1.   1. ...   1.   0.   0.]\n",
      " [  1.   3.   3. ...   3.   3.   1.]\n",
      " [  0.   1.   1. ...   1.   3.   6.]\n",
      " ...\n",
      " [  3.  18.   7. ...  23.   8.  13.]\n",
      " [ 25.  44.  20. ...  43.  37.  61.]\n",
      " [ 73.  20. 111. ...  32. 101.  60.]]\n"
     ]
    }
   ],
   "source": [
    "seq4 = my_kmeans.preprocess(0, 4, sequences)\n",
    "clusters4 = np.zeros((7, len(sequences)))\n",
    "for x in range(1,8):\n",
    "    n_clusters = 2**x\n",
    "    kmeans_model = KMeans(n_clusters=n_clusters, init='k-means++', max_iter=100, n_init=10, random_state=0, n_jobs=12)\n",
    "    kmeans_model.fit(seq4)\n",
    "    clusters4[x - 1] = kmeans_model.labels_\n",
    "print(clusters4)"
   ]
  },
  {
   "cell_type": "code",
   "execution_count": 9,
   "metadata": {},
   "outputs": [
    {
     "name": "stdout",
     "output_type": "stream",
     "text": [
      "[[  0.   1.   1. ...   1.   0.   0.]\n",
      " [  1.   3.   3. ...   3.   3.   1.]\n",
      " [  0.   1.   1. ...   1.   3.   6.]\n",
      " ...\n",
      " [  3.  18.   7. ...  23.   8.  13.]\n",
      " [ 25.  44.  20. ...  43.  37.  61.]\n",
      " [ 73.  20. 111. ...  32. 101.  60.]]\n"
     ]
    }
   ],
   "source": [
    "seq7 = my_kmeans.preprocess(0, 7, sequences)\n",
    "clusters7 = np.zeros((7, len(sequences)))\n",
    "for x in range(1,8):\n",
    "    n_clusters = 2**x\n",
    "    kmeans_model = KMeans(n_clusters=n_clusters, init='k-means++', max_iter=100, n_init=10, random_state=0, n_jobs=12)\n",
    "    kmeans_model.fit(seq4)\n",
    "    clusters7[x - 1] = kmeans_model.labels_\n",
    "print(clusters7)"
   ]
  },
  {
   "cell_type": "code",
   "execution_count": 29,
   "metadata": {},
   "outputs": [],
   "source": [
    "def assess_cluster(clusters, n_of_clusters, true_classes):\n",
    "    clus_dict = dict([(x, [0, 0]) for x in range(n_of_clusters)])\n",
    "    for i, x in enumerate(clusters):\n",
    "        true_type = types[i]\n",
    "        clus_dict[int(x)][true_type] += 1    \n",
    "    \n",
    "    results = [[], []]\n",
    "    for i, x in enumerate(types):\n",
    "        cluster = clusters[i]\n",
    "        res = clus_dict[cluster][x] / sum(clus_dict[cluster])\n",
    "        results[int(x)].append(res)\n",
    "    print('conv: ')\n",
    "    print(sum(results[0]) / len(results[0]))\n",
    "    print('nonconv: ')\n",
    "    print(sum(results[1]) / len(results[1]))\n",
    "    return clus_dict"
   ]
  },
  {
   "cell_type": "markdown",
   "metadata": {},
   "source": [
    "### Each clustering is evaluated by measuring homogeneity of the clusters"
   ]
  },
  {
   "cell_type": "code",
   "execution_count": 30,
   "metadata": {},
   "outputs": [
    {
     "name": "stdout",
     "output_type": "stream",
     "text": [
      "Word length: 4, number of clusters: 2\n",
      "conv: \n",
      "0.5034937552404394\n",
      "nonconv: \n",
      "0.5019001466579418\n",
      "\n",
      "\n",
      "Word length: 4, number of clusters: 4\n",
      "conv: \n",
      "0.5034765844025446\n",
      "nonconv: \n",
      "0.501882920707725\n",
      "\n",
      "\n",
      "Word length: 4, number of clusters: 8\n",
      "conv: \n",
      "0.5076849803710132\n",
      "nonconv: \n",
      "0.5061048241314562\n",
      "\n",
      "\n",
      "Word length: 4, number of clusters: 16\n",
      "conv: \n",
      "0.5136950724385081\n",
      "nonconv: \n",
      "0.5121342064584714\n",
      "\n",
      "\n",
      "Word length: 4, number of clusters: 32\n",
      "conv: \n",
      "0.5165936317112962\n",
      "nonconv: \n",
      "0.5150420690762714\n",
      "\n",
      "\n",
      "Word length: 4, number of clusters: 64\n",
      "conv: \n",
      "0.5284029415781221\n",
      "nonconv: \n",
      "0.5268892826306588\n",
      "\n",
      "\n",
      "Word length: 4, number of clusters: 128\n",
      "conv: \n",
      "0.5286695079220537\n",
      "nonconv: \n",
      "0.5271567045577814\n",
      "\n",
      "\n",
      "Word length: 7, number of clusters: 2\n",
      "conv: \n",
      "0.5034937552404394\n",
      "nonconv: \n",
      "0.5019001466579418\n",
      "\n",
      "\n",
      "Word length: 7, number of clusters: 4\n",
      "conv: \n",
      "0.5034765844025446\n",
      "nonconv: \n",
      "0.501882920707725\n",
      "\n",
      "\n",
      "Word length: 7, number of clusters: 8\n",
      "conv: \n",
      "0.5076849803710132\n",
      "nonconv: \n",
      "0.5061048241314562\n",
      "\n",
      "\n",
      "Word length: 7, number of clusters: 16\n",
      "conv: \n",
      "0.5136950724385081\n",
      "nonconv: \n",
      "0.5121342064584714\n",
      "\n",
      "\n",
      "Word length: 7, number of clusters: 32\n",
      "conv: \n",
      "0.5165936317112962\n",
      "nonconv: \n",
      "0.5150420690762714\n",
      "\n",
      "\n",
      "Word length: 7, number of clusters: 64\n",
      "conv: \n",
      "0.5284029415781221\n",
      "nonconv: \n",
      "0.5268892826306588\n",
      "\n",
      "\n",
      "Word length: 7, number of clusters: 128\n",
      "conv: \n",
      "0.5286695079220537\n",
      "nonconv: \n",
      "0.5271567045577814\n",
      "\n",
      "\n"
     ]
    }
   ],
   "source": [
    "for x in range(1,8):\n",
    "    n_of_clusters =  2**x\n",
    "    print('Word length: 4, number of clusters: %d' % (n_of_clusters))\n",
    "    assess_cluster(clusters4[x-1], n_of_clusters, types)\n",
    "    print('\\n')\n",
    "\n",
    "for x in range(1,8):\n",
    "    n_of_clusters =  2**x\n",
    "    print('Word length: 7, number of clusters: %d' % (n_of_clusters))\n",
    "    assess_cluster(clusters7[x-1], n_of_clusters, types)\n",
    "    print('\\n') "
   ]
  },
  {
   "cell_type": "markdown",
   "metadata": {},
   "source": [
    "### Then the sequences are classified by random forests. K-mers ranging from 4 to 11 are used for representation and for each length the classification is done twice - using whole sequences or without the junctions that were used to divide them into conventional or nonconventional."
   ]
  },
  {
   "cell_type": "code",
   "execution_count": 32,
   "metadata": {},
   "outputs": [
    {
     "name": "stdout",
     "output_type": "stream",
     "text": [
      "\n",
      "len of ogligonucleotides:  4\n",
      "uncut sequences: \n",
      "0.645330207112153\n",
      "conventional splices cut: \n",
      "0.6483261690764621\n",
      "\n",
      "len of ogligonucleotides:  5\n",
      "uncut sequences: \n",
      "0.6641266119577961\n",
      "conventional splices cut: \n",
      "0.66140419434675\n",
      "\n",
      "len of ogligonucleotides:  6\n",
      "uncut sequences: \n",
      "0.7303764491337761\n",
      "conventional splices cut: \n",
      "0.7254005470887066\n",
      "\n",
      "len of ogligonucleotides:  7\n",
      "uncut sequences: \n",
      "0.819304415787417\n",
      "conventional splices cut: \n",
      "0.8147192913898659\n",
      "\n",
      "len of ogligonucleotides:  8\n",
      "uncut sequences: \n",
      "0.8461247883287744\n",
      "conventional splices cut: \n",
      "0.8500195388823759\n",
      "\n",
      "len of ogligonucleotides:  9\n",
      "uncut sequences: \n",
      "0.8514523902566108\n",
      "conventional splices cut: \n",
      "0.8529112934740132\n",
      "\n",
      "len of ogligonucleotides:  10\n",
      "uncut sequences: \n",
      "0.8625113976813858\n",
      "conventional splices cut: \n",
      "0.85761365116582\n",
      "\n",
      "len of ogligonucleotides:  11\n",
      "uncut sequences: \n",
      "0.8722157092614303\n",
      "conventional splices cut: \n",
      "0.8688680474143545\n"
     ]
    }
   ],
   "source": [
    "file = 'data/good_introns50+3.fasta'\n",
    "with open(file, \"r\") as handle:\n",
    "    sequences = list(SimpleFastaParser(handle))\n",
    "\n",
    "types = []\n",
    "for s in sequences:\n",
    "    left_anchor = s[1][3:5]\n",
    "    right_anchor = s[1][-5:-3]\n",
    "    if left_anchor == 'GT' and right_anchor == 'AG' or left_anchor == 'CT' and right_anchor == 'AC':\n",
    "        types.append(0)\n",
    "    else:\n",
    "        types.append(1)\n",
    "\n",
    "\n",
    "for n in range(4, 12):\n",
    "    print('\\nlen of ogligonucleotides: ', n)\n",
    "    for cut in range(2):\n",
    "        if cut == 0:\n",
    "            print('uncut sequences: ')\n",
    "        if cut == 1:\n",
    "            print('conventional splices cut: ')\n",
    "        data = random_forest.preprocess(cut, n, sequences)\n",
    "        acc = random_forest.forest(10, data, types)\n",
    "        print(str(acc))"
   ]
  }
 ],
 "metadata": {
  "kernelspec": {
   "display_name": "Python 3",
   "language": "python",
   "name": "python3"
  },
  "language_info": {
   "codemirror_mode": {
    "name": "ipython",
    "version": 3
   },
   "file_extension": ".py",
   "mimetype": "text/x-python",
   "name": "python",
   "nbconvert_exporter": "python",
   "pygments_lexer": "ipython3",
   "version": "3.5.2"
  }
 },
 "nbformat": 4,
 "nbformat_minor": 4
}
