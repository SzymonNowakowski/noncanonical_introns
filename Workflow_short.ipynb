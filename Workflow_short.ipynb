{
 "cells": [
  {
   "cell_type": "code",
   "execution_count": 2,
   "metadata": {},
   "outputs": [],
   "source": [
    "import filter_junctions\n",
    "import intron_comparison\n",
    "import intron_sequences\n",
    "path = '/home/rozycka/sequences_euglena/euglena_statystyki/files/'"
   ]
  },
  {
   "cell_type": "markdown",
   "metadata": {},
   "source": [
    "## RNA-seq data has been aligned to *Euglena longa* genome with the help of two programs - HISAT2 and STAR. Then the introns were extracted using RegTools."
   ]
  },
  {
   "cell_type": "markdown",
   "metadata": {},
   "source": [
    "### First let's have a look at basic statistics:"
   ]
  },
  {
   "cell_type": "code",
   "execution_count": 14,
   "metadata": {},
   "outputs": [
    {
     "name": "stdout",
     "output_type": "stream",
     "text": [
      "Number of introns:0 198381\n",
      "Mean support:  51.14964638750687\n",
      "Median support:  8\n",
      "\n",
      "\n"
     ]
    }
   ],
   "source": [
    "file_in = path + 'junctions_longa_regtools.bed'\n",
    "file_out = path + 'all_introns_longa.bed'\n",
    "filter_junctions.junctions_to_introns(file_in, file_out)\n",
    "filter_junctions.intron_stats(file_out)\n",
    "print('\\n')"
   ]
  },
  {
   "cell_type": "markdown",
   "metadata": {},
   "source": [
    "### Because of errors in data and in alignments, there are multiple introns overlapping. We want to choose only one introns in every position that has the strongest support."
   ]
  },
  {
   "cell_type": "code",
   "execution_count": 15,
   "metadata": {},
   "outputs": [
    {
     "name": "stdout",
     "output_type": "stream",
     "text": [
      "Number of introns:0 120073\n",
      "Mean support:  74.15710442813955\n",
      "Median support:  15\n",
      "Mean share of the best intron:  0.8049653364294393\n",
      "Share of best introns in all:  0.445877834474774\n",
      "Mean support of the best intron:  84.50790768948889\n",
      "\n",
      "\n"
     ]
    }
   ],
   "source": [
    "cutoff = 1 # First we look at all the best introns\n",
    "\n",
    "file_in = file_out\n",
    "file_out = path + 'best_introns_longa.bed'\n",
    "all_i, best_i = filter_junctions.choose_best_introns(file_in, file_out, cutoff)\n",
    "filter_junctions.intron_stats(file_out)\n",
    "\n",
    "filter_junctions.compare_best_introns(all_i, best_i)"
   ]
  },
  {
   "cell_type": "markdown",
   "metadata": {},
   "source": [
    "### All the stats for HISAT are better, so this is the alignment chosen for the following analyses.\n",
    "\n",
    "### After trying different cutoffs, threshold 50 was chosen, leaving quite a big set of comperatively reliable introns"
   ]
  },
  {
   "cell_type": "code",
   "execution_count": 16,
   "metadata": {},
   "outputs": [
    {
     "name": "stdout",
     "output_type": "stream",
     "text": [
      "Number of introns:0 21844\n",
      "Mean support:  342.0451382530672\n",
      "Median support:  95.0\n",
      "Mean share of the best intron:  0.8750643128721719\n",
      "Share of best introns in all:  0.6270561749651478\n",
      "Mean support of the best intron:  464.52655191356894\n",
      "\n",
      "\n"
     ]
    }
   ],
   "source": [
    "cutoff = 50\n",
    "# file_in = f'data/good_junctions_hisat.bed'\n",
    "file_out = path + 'best_introns_longa_50.bed'\n",
    "\n",
    "all_i, best_i = filter_junctions.choose_best_introns(file_in, file_out, cutoff)\n",
    "filter_junctions.intron_stats(file_out)\n",
    "\n",
    "filter_junctions.compare_best_introns(all_i, best_i)"
   ]
  },
  {
   "cell_type": "markdown",
   "metadata": {},
   "source": [
    "### Introns were also extracted from transcripts, so we compare the two sets and only choose the introns that are idenctical in both."
   ]
  },
  {
   "cell_type": "code",
   "execution_count": 17,
   "metadata": {},
   "outputs": [
    {
     "name": "stdout",
     "output_type": "stream",
     "text": [
      "All my introns:  21844\n",
      "n of pairs:  26801\n",
      "no match:  2338\n",
      "exact match:  18143\n",
      "one side matching:  999\n",
      "length difference distribution:\n",
      "[(0, 0), (1, 236), (2, 69), (3, 96), (4, 30), (5, 8), (6, 6), (7, 2), (8, 6), (9, 3)]\n",
      "Number of genes:  4793\n"
     ]
    }
   ],
   "source": [
    "intron_comparison.extract_introns_from_gtf('/home/halakuc/longa/important/longa_stringtie_strand_informed.gtf'\n",
    ", path + 'longa_from_gtf.bed')\n",
    "other_introns = intron_comparison.intron_dict(path + 'longa_from_gtf.bed')\n",
    "\n",
    "file = path + 'best_introns_longa_50.bed'\n",
    "file_out = path + 'longa_50_double_checked.bed'\n",
    "exact_match, one_side_match, diff_lengths = intron_comparison.compare_introns(file, other_introns, file_out)\n",
    "\n",
    "print('exact match: ', len(exact_match))\n",
    "# print(exact_match)\n",
    "\n",
    "print('one side matching: ', len(one_side_match))\n",
    "# print(one_side_match)\n",
    "\n",
    "print('length difference distribution:')\n",
    "print([(x, diff_lengths.count(x)) for x in range(10)])\n",
    "best_introns = [i[0] for i in exact_match]\n",
    "genes = set([i.gene for i in best_introns])\n",
    "print('Number of genes: ', len(genes))"
   ]
  },
  {
   "cell_type": "markdown",
   "metadata": {},
   "source": [
    "### Preparing .bed files for extracting the sequences with additional margin (intron sequences + a bit of surrounding exons."
   ]
  },
  {
   "cell_type": "code",
   "execution_count": 18,
   "metadata": {},
   "outputs": [],
   "source": [
    "# filter_junctions.introns_for_seq('data/introns_hisat_50_cross_checked.bed', 'data/best_introns_hisat_50+0.bed', 0)\n",
    "filter_junctions.introns_for_seq(path + 'longa_50_double_checked.bed', path + 'longa_50+3.bed', 3)"
   ]
  },
  {
   "cell_type": "markdown",
   "metadata": {},
   "source": [
    "### After extracting intron sequences they are classified as: conventional if they have the canonical AG|GT junctions, confirmed nonconventional if they can form secondary structure in specific position or unconrfirmed nonconventional otherwise."
   ]
  },
  {
   "cell_type": "code",
   "execution_count": 19,
   "metadata": {},
   "outputs": [
    {
     "name": "stdout",
     "output_type": "stream",
     "text": [
      "conv stats: \n",
      "Number of introns:  10058\n",
      "Mean length:  881.0056671306422\n",
      "Mean gc:  0.4916012752465492\n",
      "Tetranucleotides: \n",
      "[('TTTT', 116737), ('GGGG', 116154), ('CCCC', 115095), ('AAAA', 114259), ('TGTG', 103573), ('CACA', 100118), ('TTTG', 86426), ('CAAA', 85879), ('GTGT', 79188), ('ACAC', 76305)]\n",
      "Top junctions:  [('CTAC', 4791), ('GTAG', 4709), ('CTGC', 285), ('GCAG', 273)]\n",
      "\n",
      "nonconv stats: \n",
      "Number of introns:  4750\n",
      "Mean length:  667.9473684210526\n",
      "Mean gc:  0.5097534853647481\n",
      "Tetranucleotides: \n",
      "[('CCCC', 42697), ('GGGG', 40666), ('TTTT', 40485), ('TGTG', 36891), ('AAAA', 36447), ('CACA', 35615), ('TTTG', 30434), ('CAAA', 28616), ('GTGT', 27785), ('ACAC', 26683)]\n",
      "Top junctions:  [('GCCC', 125), ('GGCC', 109), ('GGGC', 105), ('GCGC', 91), ('GGCT', 74), ('GACC', 74), ('TGGC', 72), ('CAGG', 67), ('CAGC', 65), ('CGGG', 62)]\n",
      "\n",
      "rest: \n",
      "Number of introns:  3335\n",
      "Mean length:  642.8722638680659\n",
      "Mean gc:  0.5085731819538246\n",
      "Tetranucleotides: \n",
      "[('GGGG', 29790), ('AAAA', 28373), ('CCCC', 26683), ('TTTT', 23652), ('CACA', 22506), ('TGTG', 21938), ('CAAA', 20719), ('TTTG', 19481), ('TGGG', 17099), ('CCAA', 16855)]\n",
      "Top junctions:  [('GGGC', 119), ('GGCC', 93), ('GCCC', 93), ('GGTC', 85), ('GACC', 69), ('GCGC', 57), ('CGGC', 51), ('AGGT', 47), ('GGAC', 47), ('GGCT', 46)]\n"
     ]
    }
   ],
   "source": [
    "path = '/home/rozycka/sequences_euglena/euglena_statystyki/files/'\n",
    "introns_seq_file = path + 'longa_introny_50+3.fasta' #file with the sequences\n",
    "\n",
    "introns = intron_sequences.file_to_seq_introns(introns_seq_file, 3)\n",
    "conv = []\n",
    "non_conv = []\n",
    "rest = []\n",
    "for intron in introns:\n",
    "    intron.movable_boundary()\n",
    "    if intron.check_conventional():\n",
    "        conv.append(intron)\n",
    "#         print(intron.sequence)\n",
    "#         break\n",
    "    elif intron.check_unconventional():\n",
    "        non_conv.append(intron)\n",
    "    else:\n",
    "        rest.append(intron)\n",
    "\n",
    "print('conv stats: ')\n",
    "_ = intron_sequences.seq_statistics(conv)\n",
    "\n",
    "print('\\nnonconv stats: ')\n",
    "_ = intron_sequences.seq_statistics(non_conv)\n",
    "\n",
    "print('\\nrest: ')\n",
    "_ = intron_sequences.seq_statistics(rest)"
   ]
  },
  {
   "cell_type": "code",
   "execution_count": null,
   "metadata": {},
   "outputs": [],
   "source": []
  }
 ],
 "metadata": {
  "kernelspec": {
   "display_name": "Python 3",
   "language": "python",
   "name": "python3"
  },
  "language_info": {
   "codemirror_mode": {
    "name": "ipython",
    "version": 3
   },
   "file_extension": ".py",
   "mimetype": "text/x-python",
   "name": "python",
   "nbconvert_exporter": "python",
   "pygments_lexer": "ipython3",
   "version": "3.5.2"
  }
 },
 "nbformat": 4,
 "nbformat_minor": 4
}
