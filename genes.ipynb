{
 "cells": [
  {
   "cell_type": "code",
   "execution_count": 13,
   "metadata": {},
   "outputs": [],
   "source": [
    "import introns"
   ]
  },
  {
   "cell_type": "code",
   "execution_count": 14,
   "metadata": {},
   "outputs": [],
   "source": [
    "genome_file = '/home/halakuc/genomy/longa_rascaf.fasta'\n",
    "genes_file = '/home/halakuc/longa/important/longa_stringtie_strand_informed.gtf'\n",
    "longa_genome = introns.read_genome(genome_file)"
   ]
  },
  {
   "cell_type": "code",
   "execution_count": 15,
   "metadata": {},
   "outputs": [],
   "source": [
    "longa_genes = introns.read_genes(genes_file, longa_genome)\n",
    "for gene in longa_genes:\n",
    "    gene.extract_sequence(longa_genome)"
   ]
  },
  {
   "cell_type": "code",
   "execution_count": 16,
   "metadata": {},
   "outputs": [],
   "source": [
    "for gene in longa_genes:\n",
    "    gene.create_introns()"
   ]
  },
  {
   "cell_type": "code",
   "execution_count": 17,
   "metadata": {},
   "outputs": [],
   "source": [
    "gene = introns.Gene('scaffold_1', 100, 125, exons=[introns.Exon('scaffold_1', 100, 105), \\\n",
    "                    introns.Exon('scaffold_1', 110, 115), introns.Exon('scaffold_1', 120, 125)])"
   ]
  },
  {
   "cell_type": "code",
   "execution_count": 18,
   "metadata": {},
   "outputs": [],
   "source": [
    "gene.extract_sequence(longa_genome)\n",
    "gene.create_introns()"
   ]
  },
  {
   "cell_type": "code",
   "execution_count": 19,
   "metadata": {},
   "outputs": [
    {
     "data": {
      "text/plain": [
       "'CGGAAACCACGGAGGACCGGTACAA'"
      ]
     },
     "execution_count": 19,
     "metadata": {},
     "output_type": "execute_result"
    }
   ],
   "source": [
    "gene.sequence"
   ]
  },
  {
   "cell_type": "code",
   "execution_count": 20,
   "metadata": {},
   "outputs": [
    {
     "name": "stdout",
     "output_type": "stream",
     "text": [
      "CGGAA\n",
      "GGAGG\n",
      "TACAA\n"
     ]
    }
   ],
   "source": [
    "for exon in gene.exons:\n",
    "    print(exon.sequence)"
   ]
  },
  {
   "cell_type": "code",
   "execution_count": 21,
   "metadata": {},
   "outputs": [
    {
     "data": {
      "text/plain": [
       "'CGGAAGGAGGTACAA'"
      ]
     },
     "execution_count": 21,
     "metadata": {},
     "output_type": "execute_result"
    }
   ],
   "source": [
    "gene.transcript.sequence"
   ]
  },
  {
   "cell_type": "code",
   "execution_count": 22,
   "metadata": {},
   "outputs": [
    {
     "data": {
      "text/plain": [
       "'TTGTACCGGTCCTCCGTGGTTTCCG'"
      ]
     },
     "execution_count": 22,
     "metadata": {},
     "output_type": "execute_result"
    }
   ],
   "source": [
    "gene_reverse = introns.Gene('scaffold_1', 100, 125, strand='-')\n",
    "gene_reverse.extract_sequence(longa_genome)\n",
    "gene_reverse.sequence"
   ]
  },
  {
   "cell_type": "code",
   "execution_count": null,
   "metadata": {},
   "outputs": [],
   "source": []
  }
 ],
 "metadata": {
  "kernelspec": {
   "display_name": "Python 3",
   "language": "python",
   "name": "python3"
  },
  "language_info": {
   "codemirror_mode": {
    "name": "ipython",
    "version": 3
   },
   "file_extension": ".py",
   "mimetype": "text/x-python",
   "name": "python",
   "nbconvert_exporter": "python",
   "pygments_lexer": "ipython3",
   "version": "3.5.2"
  }
 },
 "nbformat": 4,
 "nbformat_minor": 2
}
