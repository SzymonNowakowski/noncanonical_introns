{
 "cells": [
  {
   "cell_type": "code",
   "execution_count": 1,
   "id": "norwegian-joseph",
   "metadata": {},
   "outputs": [],
   "source": [
    "import sys\n",
    "sys.path.append('/home/semik/projekty/noncanonical_introns/')\n",
    "\n",
    "import pathlib\n",
    "pathlib.Path().absolute()\n",
    "\n",
    "import introns\n",
    "import intron_comparison\n",
    "from collections import defaultdict"
   ]
  },
  {
   "cell_type": "code",
   "execution_count": 2,
   "id": "distinct-holocaust",
   "metadata": {},
   "outputs": [
    {
     "name": "stdout",
     "output_type": "stream",
     "text": [
      "0\n",
      "0\n",
      "1\n",
      "0\n",
      "1\n",
      "0\n",
      "1\n",
      "0\n",
      "1\n",
      "1\n",
      "2\n",
      "0\n",
      "2\n",
      "1\n",
      "1\n",
      "1\n",
      "2\n",
      "0\n",
      "0\n",
      "0\n",
      "0\n",
      "1\n"
     ]
    }
   ],
   "source": [
    "genome_file = '/home/semik/projekty/noncanonical_introns/bugtest.fasta'\n",
    "genes_file = '/home/semik/projekty/noncanonical_introns/bugtest.gtf'\n",
    "introns_file = '/home/semik/projekty/noncanonical_introns/bugtest_introns.gtf'\n",
    "genome = introns.read_genome(genome_file)\n",
    "genes = introns.read_genes(genes_file)\n",
    "\n",
    "for name, gene in genes.items():\n",
    "    gene.extract_sequence(genome)\n",
    "    gene.create_introns()\n",
    "    for intron in gene.introns:\n",
    "        print(len(intron.variations))\n",
    "        #intron.movable_boundary_no_margins()\n",
    "        #print(len(intron.variations), '\\n')"
   ]
  },
  {
   "cell_type": "code",
   "execution_count": 3,
   "id": "approximate-breathing",
   "metadata": {},
   "outputs": [
    {
     "name": "stdout",
     "output_type": "stream",
     "text": [
      "\t STRG.6.1 5783\n",
      "\t 661 6444\n",
      "GCA GAT\n",
      "GGC ATG\n",
      "CTG ACG\n",
      "GCT CCC\n",
      "CTT ACC\n",
      "CCA CCA\n",
      "\t STRG.7.1 7122\n",
      "\t 13989 21111\n",
      "CCG AAT\n",
      "TAT ATG\n",
      "\t STRG.8.1 756\n",
      "\t 44596 45352\n",
      "GCG GTC\n",
      "GAC ACC\n",
      "\t STRG.8.2 756\n",
      "\t 44596 45352\n",
      "GCT CCC\n",
      "\t STRG.8.3 756\n",
      "\t 44596 45352\n",
      "CAG TCG\n",
      "GCT CCC\n",
      "\t STRG.9.1 2026\n",
      "\t 48129 50155\n",
      "CAG GCT\n",
      "CAG GGA\n",
      "GTG GAA\n",
      "\t STRG.10.1 3918\n",
      "\t 66359 70277\n",
      "ACG CAG\n",
      "AGC GCC\n",
      "CCA CAA\n",
      "CGT CGA\n",
      "CAC CAG\n",
      "CAG GGT\n"
     ]
    }
   ],
   "source": [
    "for name, gene in list(genes.items()):\n",
    "    print(\"\\t\", name, len(gene.sequence))\n",
    "    print(\"\\t\", gene.start, gene.end)\n",
    "    for intron in gene.introns:\n",
    "        #print(gene.strand, intron.strand)\n",
    "        #print(intron.scaffold_name, intron.start, intron.end)\n",
    "        \n",
    "        '''\n",
    "        +: intron.start - gene.start : intron.end - gene.start\n",
    "        -: -intron.end + gene.end : -intron.start + gene.end\n",
    "        '''\n",
    "        if gene.strand=='-':\n",
    "            istart, iend = -intron.end + gene.end, -intron.start + gene.end\n",
    "            #marg_l, marg_r = gene.sequence[istart-3:istart], gene.sequence[iend:iend+3]\n",
    "        elif gene.strand=='+':\n",
    "            istart, iend = intron.start-gene.start, intron.end-gene.start\n",
    "        marg_l, marg_r = gene.sequence[istart-3:istart], gene.sequence[iend:iend+3]\n",
    "        print(marg_l, marg_r)"
   ]
  },
  {
   "cell_type": "code",
   "execution_count": 4,
   "id": "invisible-special",
   "metadata": {},
   "outputs": [
    {
     "name": "stdout",
     "output_type": "stream",
     "text": [
      "STRG.10349.1 Backbone_42431 34332 34869\n",
      "STRG.23469.1 Backbone_16422 19738 20179\n",
      "STRG.26943.1 Backbone_27702 5991 6323\n",
      "STRG.56728.1 Backbone_6313 2584 3004\n",
      "STRG.63148.1 Backbone_13174 3308 3718\n",
      "STRG.88595.1 Backbone_27075 12309 12861\n",
      "STRG.88966.1 Backbone_28175 71421 71751\n",
      "STRG.98591.1 Backbone_63165 4298 4949\n",
      "STRG.101419.1 Backbone_76035 2888 3274\n",
      "STRG.116446.1 Backbone_52206 27859 28061\n",
      "STRG.118214.1 Backbone_59266 26843 27109\n",
      "STRG.138399.1 Backbone_55817 12402 12603\n",
      "STRG.143276.1 Backbone_75817 1029 1256\n",
      "STRG.161059.1 Backbone_63198 5177 5410\n",
      "STRG.186564.1 Backbone_83739 5483 6006\n",
      "STRG.187684.1 Backbone_10410 50126 50389\n",
      "STRG.199313.1 Backbone_48610 16136 16387\n",
      "STRG.205627.1 Backbone_75270 36904 37164\n"
     ]
    }
   ],
   "source": [
    "path=\"/mnt/archive/euglena_genomy/\"\n",
    "genom_EG=path+\"gracilis/gracilis_dbg2olc.fasta\"\n",
    "geny_EG=path+\"gracilis/gracilis_stringtie_strand_informed.gtf\"\n",
    "\n",
    "genome_EG = introns.read_genome(genom_EG)\n",
    "genes_EG = introns.read_genes(geny_EG)\n",
    "\n",
    "for name, gene in list(genes_EG.items()):\n",
    "    gene.extract_sequence(genome_EG)\n",
    "    gene.create_introns()"
   ]
  },
  {
   "cell_type": "code",
   "execution_count": 5,
   "id": "sapphire-cookie",
   "metadata": {},
   "outputs": [
    {
     "name": "stdout",
     "output_type": "stream",
     "text": [
      "Konwencjonalne: 8332, niekonwencjonalne: 228508, inne: 38416, wszystkie: 275256\n",
      "[0, 0, 612, 458, 0, 0, 1676, 1319]\n"
     ]
    }
   ],
   "source": [
    "conv_count=0\n",
    "uconv_count=0\n",
    "c=[0,0,0,0,0,0,0,0]\n",
    "for name, gene in list(genes_EG.items()):\n",
    "    for intron in gene.introns:\n",
    "        intron.conventional_version()\n",
    "        if intron.check_conventional():\n",
    "            conv_count+=1\n",
    "            if intron.is_conventional:\n",
    "                c[intron.is_conventional-1]+=1\n",
    "        if intron.check_unconventional():\n",
    "            uconv_count+=1\n",
    "        \n",
    "print(\"Konwencjonalne: %d, niekonwencjonalne: %d, inne: %d, wszystkie: %d\" %(conv_count,uconv_count,len(genes_EG)-conv_count-uconv_count,len(genes_EG)))\n",
    "print(c)"
   ]
  }
 ],
 "metadata": {
  "kernelspec": {
   "display_name": "Python 3",
   "language": "python",
   "name": "python3"
  },
  "language_info": {
   "codemirror_mode": {
    "name": "ipython",
    "version": 3
   },
   "file_extension": ".py",
   "mimetype": "text/x-python",
   "name": "python",
   "nbconvert_exporter": "python",
   "pygments_lexer": "ipython3",
   "version": "3.8.5"
  }
 },
 "nbformat": 4,
 "nbformat_minor": 5
}
