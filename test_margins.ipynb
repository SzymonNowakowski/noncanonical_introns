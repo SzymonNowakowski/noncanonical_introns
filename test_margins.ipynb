{
 "cells": [
  {
   "cell_type": "code",
   "execution_count": 1,
   "id": "included-final",
   "metadata": {},
   "outputs": [],
   "source": [
    "import sys\n",
    "sys.path.append('/home/semik/projekty/noncanonical_introns/')\n",
    "\n",
    "import pathlib\n",
    "pathlib.Path().absolute()\n",
    "\n",
    "import introns\n",
    "import intron_comparison\n",
    "from collections import defaultdict"
   ]
  },
  {
   "cell_type": "code",
   "execution_count": 2,
   "id": "horizontal-bobby",
   "metadata": {},
   "outputs": [],
   "source": [
    "genome_file = '/home/semik/projekty/noncanonical_introns/bugtest.fasta'\n",
    "genes_file = '/home/semik/projekty/noncanonical_introns/bugtest.gtf'\n",
    "genome = introns.read_genome(genome_file)\n",
    "genes = introns.read_genes(genes_file)"
   ]
  },
  {
   "cell_type": "code",
   "execution_count": 3,
   "id": "cooked-border",
   "metadata": {},
   "outputs": [],
   "source": [
    "for name, gene in list(genes.items()):\n",
    "    gene.extract_sequence(genome)\n",
    "    gene.create_introns()\n",
    "    for intron in gene.introns:\n",
    "        intron.conventional_version()\n",
    "        intron.nonconventional_version()"
   ]
  },
  {
   "cell_type": "code",
   "execution_count": 4,
   "id": "painful-translator",
   "metadata": {},
   "outputs": [
    {
     "name": "stdout",
     "output_type": "stream",
     "text": [
      "conventional versions of variants\n",
      "0 0 [0]\n",
      "0 0 []\n",
      "0 0 []\n",
      "0 0 []\n",
      "0 0 [0]\n",
      "0 0 []\n",
      "0 0 [0, 0]\n",
      "0 0 []\n",
      "8 8 [0]\n",
      "0 0 [0, 0]\n",
      "0 0 [0, 0, 0, 0, 0, 0, 0, 0]\n",
      "0 0 [0, 0]\n",
      "0 0 [0, 0, 0, 0, 0, 0, 0, 0]\n",
      "3 3 [0, 0, 0, 0]\n",
      "2 2 [0, 0, 0, 2]\n",
      "3 3 [0]\n",
      "0 0 [0]\n",
      "0 0 [0, 0, 0, 0, 0, 0, 0, 0, 0]\n",
      "0 0 [0, 0]\n",
      "0 0 [0, 0]\n",
      "0 0 [0, 0, 0, 0, 0, 0, 0, 0, 0]\n",
      "4 4 [0, 0, 4, 0]\n",
      "nonconventional versions of variants\n",
      "7 7 [7]\n",
      "0 0 []\n",
      "8 8 []\n",
      "0 0 []\n",
      "8 8 [0]\n",
      "10 10 []\n",
      "7 7 [0, 0]\n",
      "0 0 []\n",
      "0 0 [0]\n",
      "0 0 [0, 0]\n",
      "0 0 [0, 0, 0, 0, 0, 0, 0, 0]\n",
      "0 10 [0, 10]\n",
      "0 0 [0, 0, 0, 0, 0, 0, 0, 0]\n",
      "0 11 [0, 0, 0, 11]\n",
      "0 0 [0, 0, 0, 0]\n",
      "11 11 [0]\n",
      "0 0 [0]\n",
      "0 1 [0, 0, 0, 0, 0, 1, 0, 11, 0]\n",
      "0 0 [0, 0]\n",
      "0 0 [0, 0]\n",
      "0 9 [0, 9, 0, 0, 11, 0, 0, 0, 0]\n",
      "0 11 [0, 11, 0, 0]\n"
     ]
    }
   ],
   "source": [
    "print(\"conventional versions of variants\")\n",
    "for name,gene in list(genes.items()):\n",
    "    for intron in gene.introns:\n",
    "        print(intron.is_conventional, intron.best_conv_var, [i.is_conventional for i in intron.variations])\n",
    "print(\"nonconventional versions of variants\")\n",
    "for name,gene in list(genes.items()):\n",
    "    for intron in gene.introns:\n",
    "        print(intron.is_nonconventional, intron.best_nonconv_var, [i.is_nonconventional for i in intron.variations])"
   ]
  },
  {
   "cell_type": "code",
   "execution_count": 5,
   "id": "terminal-complaint",
   "metadata": {},
   "outputs": [
    {
     "name": "stdout",
     "output_type": "stream",
     "text": [
      "liczba wariacji intronow\n",
      "[[1, 0, 0, 0, 1, 0], [2, 0], [1, 2], [8], [2, 8], [4, 4, 1], [1, 9, 2, 2, 9, 4]]\n"
     ]
    }
   ],
   "source": [
    "print('liczba wariacji intronow')\n",
    "print([[len(intron.variations) for intron in gene.introns] for name,gene in list(genes.items())])"
   ]
  },
  {
   "cell_type": "code",
   "execution_count": 6,
   "id": "oriental-competition",
   "metadata": {},
   "outputs": [],
   "source": [
    "for name, gene in list(genes.items()):\n",
    "    for intron in gene.introns:\n",
    "        for var in intron.variations:\n",
    "            if not var.prev_exon.scaffold_end == var.scaffold_start or not var.scaffold_end==var.next_exon.scaffold_start:\n",
    "                print('xle')"
   ]
  },
  {
   "cell_type": "code",
   "execution_count": 7,
   "id": "medical-robin",
   "metadata": {},
   "outputs": [
    {
     "name": "stdout",
     "output_type": "stream",
     "text": [
      "sprawdzanie, czy tworza sie dobre gene_start i gene_end\n"
     ]
    }
   ],
   "source": [
    "print('sprawdzanie, czy tworza sie dobre gene_start i gene_end')\n",
    "for name, gene in list(genes.items()):\n",
    "    for intron in gene.introns:\n",
    "        if not intron.scaffold_end-intron.scaffold_start == intron.gene_end-intron.gene_start: print(\"zla dlugosc\")\n",
    "        if not intron.scaffold_start in range(intron.gene.scaffold_start,intron.gene.scaffold_end) and not intron.scaffold_end in range(intron.gene.scaffold_start, intron.gene.scaffold_end): print(\"zle\")\n",
    "        #print(intron.gene_start, intron.gene_end)"
   ]
  },
  {
   "cell_type": "code",
   "execution_count": 8,
   "id": "local-newton",
   "metadata": {},
   "outputs": [
    {
     "name": "stdout",
     "output_type": "stream",
     "text": [
      "eksony maja swoje poprzedzajace i nastepne eksony\n",
      "\n",
      " STRG.6.1\n",
      "None || scaffold_5 661 759 || scaffold_5 1083 1188\n",
      "scaffold_5 661 759 || scaffold_5 1083 1188 || scaffold_5 1726 1838\n",
      "scaffold_5 1083 1188 || scaffold_5 1726 1838 || scaffold_5 3238 3413\n",
      "scaffold_5 1726 1838 || scaffold_5 3238 3413 || scaffold_5 5024 5052\n",
      "scaffold_5 3238 3413 || scaffold_5 5024 5052 || scaffold_5 6115 6199\n",
      "scaffold_5 5024 5052 || scaffold_5 6115 6199 || scaffold_5 6294 6444\n",
      "scaffold_5 6115 6199 || scaffold_5 6294 6444 || scaffold_5 13989 14051\n",
      "\n",
      " STRG.7.1\n",
      "scaffold_5 6294 6444 || scaffold_5 13989 14051 || scaffold_5 14373 14401\n",
      "scaffold_5 13989 14051 || scaffold_5 14373 14401 || scaffold_5 20838 21111\n",
      "scaffold_5 14373 14401 || scaffold_5 20838 21111 || scaffold_5 44596 44666\n",
      "\n",
      " STRG.8.1\n",
      "scaffold_5 20838 21111 || scaffold_5 44596 44666 || scaffold_5 44823 45005\n",
      "scaffold_5 44596 44666 || scaffold_5 44823 45005 || scaffold_5 45236 45352\n",
      "scaffold_5 44823 45005 || scaffold_5 45236 45352 || scaffold_5 44596 44999\n",
      "\n",
      " STRG.8.2\n",
      "scaffold_5 45236 45352 || scaffold_5 44596 44999 || scaffold_5 45227 45352\n",
      "scaffold_5 44596 44999 || scaffold_5 45227 45352 || scaffold_5 44596 44664\n",
      "\n",
      " STRG.8.3\n",
      "scaffold_5 45227 45352 || scaffold_5 44596 44664 || scaffold_5 44837 44999\n",
      "scaffold_5 44596 44664 || scaffold_5 44837 44999 || scaffold_5 45227 45352\n",
      "scaffold_5 44837 44999 || scaffold_5 45227 45352 || scaffold_5 48129 48174\n",
      "\n",
      " STRG.9.1\n",
      "scaffold_5 45227 45352 || scaffold_5 48129 48174 || scaffold_5 49274 49409\n",
      "scaffold_5 48129 48174 || scaffold_5 49274 49409 || scaffold_5 49830 49900\n",
      "scaffold_5 49274 49409 || scaffold_5 49830 49900 || scaffold_5 50064 50155\n",
      "scaffold_5 49830 49900 || scaffold_5 50064 50155 || scaffold_5 66359 66463\n",
      "\n",
      " STRG.10.1\n",
      "scaffold_5 50064 50155 || scaffold_5 66359 66463 || scaffold_5 67250 67331\n",
      "scaffold_5 66359 66463 || scaffold_5 67250 67331 || scaffold_5 67636 67742\n",
      "scaffold_5 67250 67331 || scaffold_5 67636 67742 || scaffold_5 68696 68809\n",
      "scaffold_5 67636 67742 || scaffold_5 68696 68809 || scaffold_5 69491 69574\n",
      "scaffold_5 68696 68809 || scaffold_5 69491 69574 || scaffold_5 69749 69846\n",
      "scaffold_5 69491 69574 || scaffold_5 69749 69846 || scaffold_5 70238 70277\n",
      "scaffold_5 69749 69846 || scaffold_5 70238 70277 || None\n"
     ]
    }
   ],
   "source": [
    "print(\"eksony maja swoje poprzedzajace i nastepne eksony\")\n",
    "for name, gene in list(genes.items()):\n",
    "    print(\"\\n\", name)\n",
    "    for exon in gene.exons:\n",
    "        print(exon.prev_exon, \"||\", exon,\"||\", exon.next_exon)"
   ]
  },
  {
   "cell_type": "code",
   "execution_count": 9,
   "id": "small-currency",
   "metadata": {},
   "outputs": [
    {
     "name": "stdout",
     "output_type": "stream",
     "text": [
      "introny tez maja poprzedzajace i nastepne eksony\n",
      "\n",
      " STRG.6.1\n",
      "scaffold_5 661 759 || 759 1083 || scaffold_5 1083 1188\n",
      "scaffold_5 1083 1188 || 1188 1726 || scaffold_5 1726 1838\n",
      "scaffold_5 1726 1838 || 1838 3238 || scaffold_5 3238 3413\n",
      "scaffold_5 3238 3413 || 3413 5024 || scaffold_5 5024 5052\n",
      "scaffold_5 5024 5052 || 5052 6115 || scaffold_5 6115 6199\n",
      "scaffold_5 6115 6199 || 6199 6294 || scaffold_5 6294 6444\n",
      "\n",
      " STRG.7.1\n",
      "scaffold_5 13989 14051 || 14051 14373 || scaffold_5 14373 14401\n",
      "scaffold_5 14373 14401 || 14401 20838 || scaffold_5 20838 21111\n",
      "\n",
      " STRG.8.1\n",
      "scaffold_5 44596 44666 || 44666 44823 || scaffold_5 44823 45005\n",
      "scaffold_5 44823 45005 || 45005 45236 || scaffold_5 45236 45352\n",
      "\n",
      " STRG.8.2\n",
      "scaffold_5 44596 44999 || 44999 45227 || scaffold_5 45227 45352\n",
      "\n",
      " STRG.8.3\n",
      "scaffold_5 44596 44664 || 44664 44837 || scaffold_5 44837 44999\n",
      "scaffold_5 44837 44999 || 44999 45227 || scaffold_5 45227 45352\n",
      "\n",
      " STRG.9.1\n",
      "scaffold_5 48129 48174 || 48174 49274 || scaffold_5 49274 49409\n",
      "scaffold_5 49274 49409 || 49409 49830 || scaffold_5 49830 49900\n",
      "scaffold_5 49830 49900 || 49900 50064 || scaffold_5 50064 50155\n",
      "\n",
      " STRG.10.1\n",
      "scaffold_5 66359 66463 || 66463 67250 || scaffold_5 67250 67331\n",
      "scaffold_5 67250 67331 || 67331 67636 || scaffold_5 67636 67742\n",
      "scaffold_5 67636 67742 || 67742 68696 || scaffold_5 68696 68809\n",
      "scaffold_5 68696 68809 || 68809 69491 || scaffold_5 69491 69574\n",
      "scaffold_5 69491 69574 || 69574 69749 || scaffold_5 69749 69846\n",
      "scaffold_5 69749 69846 || 69846 70238 || scaffold_5 70238 70277\n"
     ]
    }
   ],
   "source": [
    "print('introny tez maja poprzedzajace i nastepne eksony')\n",
    "for name, gene in list(genes.items()):\n",
    "    gene.extract_sequence(genome)\n",
    "    gene.create_introns()\n",
    "    print(\"\\n\", name)\n",
    "    for intron in gene.introns:\n",
    "        print(intron.prev_exon, \"||\", intron.scaffold_start, intron.scaffold_end, \"||\", intron.next_exon)\n",
    "        #print(intron.prev_exon.scaffold_end == intron.scaffold_start, intron.scaffold_end==intron.next_exon.scaffold_start)"
   ]
  },
  {
   "cell_type": "code",
   "execution_count": 10,
   "id": "ceramic-ballot",
   "metadata": {},
   "outputs": [
    {
     "name": "stdout",
     "output_type": "stream",
     "text": [
      "eksony maja tez poprzedzajace i nastepne introny\n",
      "\n",
      " STRG.6.1\n",
      "None || 661 759 || scaffold_5 759 1083\n",
      "scaffold_5 759 1083 || 1083 1188 || scaffold_5 1188 1726\n",
      "scaffold_5 1188 1726 || 1726 1838 || scaffold_5 1838 3238\n",
      "scaffold_5 1838 3238 || 3238 3413 || scaffold_5 3413 5024\n",
      "scaffold_5 3413 5024 || 5024 5052 || scaffold_5 5052 6115\n",
      "scaffold_5 5052 6115 || 6115 6199 || scaffold_5 6199 6294\n",
      "scaffold_5 6199 6294 || 6294 6444 || None\n",
      "\n",
      " STRG.7.1\n",
      "None || 13989 14051 || scaffold_5 14051 14373\n",
      "scaffold_5 14051 14373 || 14373 14401 || scaffold_5 14401 20838\n",
      "scaffold_5 14401 20838 || 20838 21111 || None\n",
      "\n",
      " STRG.8.1\n",
      "None || 44596 44666 || scaffold_5 44666 44823\n",
      "scaffold_5 44666 44823 || 44823 45005 || scaffold_5 45005 45236\n",
      "scaffold_5 45005 45236 || 45236 45352 || None\n",
      "\n",
      " STRG.8.2\n",
      "None || 44596 44999 || scaffold_5 44999 45227\n",
      "scaffold_5 44999 45227 || 45227 45352 || None\n",
      "\n",
      " STRG.8.3\n",
      "None || 44596 44664 || scaffold_5 44664 44837\n",
      "scaffold_5 44664 44837 || 44837 44999 || scaffold_5 44999 45227\n",
      "scaffold_5 44999 45227 || 45227 45352 || None\n",
      "\n",
      " STRG.9.1\n",
      "None || 48129 48174 || scaffold_5 48174 49274\n",
      "scaffold_5 48174 49274 || 49274 49409 || scaffold_5 49409 49830\n",
      "scaffold_5 49409 49830 || 49830 49900 || scaffold_5 49900 50064\n",
      "scaffold_5 49900 50064 || 50064 50155 || None\n",
      "\n",
      " STRG.10.1\n",
      "None || 66359 66463 || scaffold_5 66463 67250\n",
      "scaffold_5 66463 67250 || 67250 67331 || scaffold_5 67331 67636\n",
      "scaffold_5 67331 67636 || 67636 67742 || scaffold_5 67742 68696\n",
      "scaffold_5 67742 68696 || 68696 68809 || scaffold_5 68809 69491\n",
      "scaffold_5 68809 69491 || 69491 69574 || scaffold_5 69574 69749\n",
      "scaffold_5 69574 69749 || 69749 69846 || scaffold_5 69846 70238\n",
      "scaffold_5 69846 70238 || 70238 70277 || None\n"
     ]
    }
   ],
   "source": [
    "print(\"eksony maja tez poprzedzajace i nastepne introny\")\n",
    "for name, gene in list(genes.items()):\n",
    "    gene.extract_sequence(genome)\n",
    "    gene.create_introns()\n",
    "    print(\"\\n\", name)\n",
    "    for exon in gene.exons:\n",
    "        print(exon.prev_intron, \"||\", exon.scaffold_start, exon.scaffold_end, \"||\", exon.next_intron)\n",
    "        '''if exon.prev_intron and exon.next_intron: print(exon.prev_intron.scaffold_end==exon.scaffold_start, exon.scaffold_end==exon.next_intron.scaffold_start)\n",
    "        elif exon.prev_intron and not exon.next_intron: print(exon.prev_intron.scaffold_end==exon.scaffold_start, \".\")\n",
    "        else: print(\".\", exon.scaffold_end==exon.next_intron.scaffold_start)'''"
   ]
  },
  {
   "cell_type": "code",
   "execution_count": 11,
   "id": "popular-exclusion",
   "metadata": {
    "tags": []
   },
   "outputs": [
    {
     "name": "stdout",
     "output_type": "stream",
     "text": [
      "STRG.10349.1 Backbone_42431 34332 34869\n",
      "STRG.23469.1 Backbone_16422 19738 20179\n",
      "STRG.26943.1 Backbone_27702 5991 6323\n",
      "STRG.56728.1 Backbone_6313 2584 3004\n",
      "STRG.63148.1 Backbone_13174 3308 3718\n",
      "STRG.88595.1 Backbone_27075 12309 12861\n",
      "STRG.88966.1 Backbone_28175 71421 71751\n",
      "STRG.98591.1 Backbone_63165 4298 4949\n",
      "STRG.101419.1 Backbone_76035 2888 3274\n",
      "STRG.116446.1 Backbone_52206 27859 28061\n",
      "STRG.118214.1 Backbone_59266 26843 27109\n",
      "STRG.138399.1 Backbone_55817 12402 12603\n",
      "STRG.143276.1 Backbone_75817 1029 1256\n",
      "STRG.161059.1 Backbone_63198 5177 5410\n",
      "STRG.186564.1 Backbone_83739 5483 6006\n",
      "STRG.187684.1 Backbone_10410 50126 50389\n",
      "STRG.199313.1 Backbone_48610 16136 16387\n",
      "STRG.205627.1 Backbone_75270 36904 37164\n"
     ]
    }
   ],
   "source": [
    "path=\"/mnt/archive/euglena_genomy/\"\n",
    "genom_EG=path+\"gracilis/gracilis_dbg2olc.fasta\"\n",
    "geny_EG=path+\"gracilis/gracilis_stringtie_strand_informed.gtf\"\n",
    "\n",
    "genome_EG = introns.read_genome(genom_EG)\n",
    "genes_EG = introns.read_genes(geny_EG)\n",
    "\n",
    "for name, gene in list(genes_EG.items()):\n",
    "    gene.extract_sequence(genome_EG)\n",
    "    gene.create_introns()"
   ]
  },
  {
   "cell_type": "code",
   "execution_count": 12,
   "id": "solar-position",
   "metadata": {},
   "outputs": [
    {
     "name": "stdout",
     "output_type": "stream",
     "text": [
      "Klasy konwencjonalne: [9718, 54244, 83276, 13212, 667, 3634, 9099, 8482]\n",
      "Klasy niekonwencjonalne: [3365, 10306, 3679, 8613, 4889, 1503, 20795, 60274, 10657, 139510, 128072]\n",
      "\n",
      "Konwencjonalne: 182332, niekonwencjonalne: 391663, oba: 58022 inne: 499714, wszystkie: 1015687\n",
      "True\n",
      "True\n"
     ]
    }
   ],
   "source": [
    "conv_count=0\n",
    "nconv_count=0\n",
    "both_count=0\n",
    "all_count=0\n",
    "non_count=0\n",
    "conventional_classes=[0,0,0,0,0,0,0,0]\n",
    "nonconventional_classes=[0,0,0,0,0,0,0,0,0,0,0]\n",
    "\n",
    "for name, gene in list(genes_EG.items()):\n",
    "    for intron in gene.introns:\n",
    "        all_count+=1\n",
    "        intron.conventional_version()\n",
    "        intron.nonconventional_version()\n",
    "        \n",
    "        if intron.best_nonconv_var:\n",
    "            nonconventional_classes[intron.best_nonconv_var-1]+=1\n",
    "            nconv_count+=1\n",
    "\n",
    "        if intron.best_conv_var:\n",
    "            conventional_classes[intron.best_conv_var-1]+=1\n",
    "            conv_count+=1\n",
    "            if intron.best_nonconv_var:\n",
    "                both_count+=1\n",
    "        elif not intron.best_nonconv_var:\n",
    "            non_count+=1\n",
    "\n",
    "print(\"Klasy konwencjonalne:\", conventional_classes)\n",
    "print(\"Klasy niekonwencjonalne:\", nonconventional_classes)\n",
    "print(\"\\nKonwencjonalne: %d, niekonwencjonalne: %d, oba: %d inne: %d, wszystkie: %d\" %(conv_count,nconv_count, both_count,non_count,all_count))\n",
    "\n",
    "print(sum(conventional_classes)==conv_count)\n",
    "print(sum(nonconventional_classes)==nconv_count)"
   ]
  },
  {
   "cell_type": "code",
   "execution_count": 18,
   "id": "looking-norman",
   "metadata": {
    "tags": []
   },
   "outputs": [
    {
     "name": "stdout",
     "output_type": "stream",
     "text": [
      "630\n"
     ]
    }
   ],
   "source": [
    "bla = []\n",
    "for i in ls:\n",
    "    if i[0] < 5:\n",
    "        bla.append(i)\n",
    "print(len(bla))"
   ]
  }
 ],
 "metadata": {
  "kernelspec": {
   "display_name": "Python 3",
   "language": "python",
   "name": "python3"
  },
  "language_info": {
   "codemirror_mode": {
    "name": "ipython",
    "version": 3
   },
   "file_extension": ".py",
   "mimetype": "text/x-python",
   "name": "python",
   "nbconvert_exporter": "python",
   "pygments_lexer": "ipython3",
   "version": "3.8.5"
  }
 },
 "nbformat": 4,
 "nbformat_minor": 5
}
