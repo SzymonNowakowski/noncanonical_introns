{
 "cells": [
  {
   "cell_type": "code",
   "execution_count": 1,
   "id": "optional-valve",
   "metadata": {},
   "outputs": [],
   "source": [
    "import sys\n",
    "sys.path.append('/home/semik/projekty/noncanonical_introns/')\n",
    "\n",
    "import pathlib\n",
    "pathlib.Path().absolute()\n",
    "\n",
    "import introns\n",
    "import intron_comparison\n",
    "from collections import defaultdict"
   ]
  },
  {
   "cell_type": "code",
   "execution_count": 2,
   "id": "chubby-spanking",
   "metadata": {},
   "outputs": [],
   "source": [
    "genome_file = '/home/semik/projekty/noncanonical_introns/bugtest.fasta'\n",
    "genes_file = '/home/semik/projekty/noncanonical_introns/bugtest.gtf'\n",
    "genome = introns.read_genome(genome_file)\n",
    "genes = introns.read_genes(genes_file)\n",
    "\n",
    "for name, gene in list(genes.items()):\n",
    "    gene.extract_sequence(genome)\n",
    "    gene.create_introns()"
   ]
  },
  {
   "cell_type": "code",
   "execution_count": 3,
   "id": "naked-arabic",
   "metadata": {},
   "outputs": [
    {
     "name": "stdout",
     "output_type": "stream",
     "text": [
      "sprawdzanie, czy tworza sie dobre start_gene i end_gene\n",
      "5362 5685\n",
      "4719 5256\n",
      "3207 4606\n",
      "1421 3031\n",
      "330 1392\n",
      "151 245\n",
      "6739 7060\n",
      "274 6710\n",
      "70 226\n",
      "409 639\n",
      "403 630\n",
      "68 240\n",
      "403 630\n",
      "45 1144\n",
      "1280 1700\n",
      "1771 1934\n",
      "104 890\n",
      "972 1276\n",
      "1383 2336\n",
      "2450 3131\n",
      "3215 3389\n",
      "3487 3878\n"
     ]
    }
   ],
   "source": [
    "print('sprawdzanie, czy tworza sie dobre start_gene i end_gene')\n",
    "for name, gene in list(genes.items()):\n",
    "    gene.extract_sequence(genome)\n",
    "    gene.create_introns()\n",
    "    for intron in gene.introns:\n",
    "        if not intron.end-intron.start == intron.end_gene-intron.start_gene: print(\"zla dlugosc\")\n",
    "        if not intron.start in range(intron.gene.start,intron.gene.end) and not intron.end in range(intron.gene.start, intron.gene.end): print(\"zle\")\n",
    "        print(intron.start_gene, intron.end_gene)"
   ]
  },
  {
   "cell_type": "code",
   "execution_count": 4,
   "id": "separate-spice",
   "metadata": {},
   "outputs": [
    {
     "name": "stdout",
     "output_type": "stream",
     "text": [
      "eksony maja swoje poprzedzajace i nastepne eksony\n",
      "\n",
      " STRG.6.1\n",
      "None || scaffold_5 661 759 || scaffold_5 1083 1188\n",
      "scaffold_5 661 759 || scaffold_5 1083 1188 || scaffold_5 1726 1838\n",
      "scaffold_5 1083 1188 || scaffold_5 1726 1838 || scaffold_5 3238 3413\n",
      "scaffold_5 1726 1838 || scaffold_5 3238 3413 || scaffold_5 5024 5052\n",
      "scaffold_5 3238 3413 || scaffold_5 5024 5052 || scaffold_5 6115 6199\n",
      "scaffold_5 5024 5052 || scaffold_5 6115 6199 || scaffold_5 6294 6444\n",
      "scaffold_5 6115 6199 || scaffold_5 6294 6444 || scaffold_5 13989 14051\n",
      "\n",
      " STRG.7.1\n",
      "scaffold_5 6294 6444 || scaffold_5 13989 14051 || scaffold_5 14373 14401\n",
      "scaffold_5 13989 14051 || scaffold_5 14373 14401 || scaffold_5 20838 21111\n",
      "scaffold_5 14373 14401 || scaffold_5 20838 21111 || scaffold_5 44596 44666\n",
      "\n",
      " STRG.8.1\n",
      "scaffold_5 20838 21111 || scaffold_5 44596 44666 || scaffold_5 44823 45005\n",
      "scaffold_5 44596 44666 || scaffold_5 44823 45005 || scaffold_5 45236 45352\n",
      "scaffold_5 44823 45005 || scaffold_5 45236 45352 || scaffold_5 44596 44999\n",
      "\n",
      " STRG.8.2\n",
      "scaffold_5 45236 45352 || scaffold_5 44596 44999 || scaffold_5 45227 45352\n",
      "scaffold_5 44596 44999 || scaffold_5 45227 45352 || scaffold_5 44596 44664\n",
      "\n",
      " STRG.8.3\n",
      "scaffold_5 45227 45352 || scaffold_5 44596 44664 || scaffold_5 44837 44999\n",
      "scaffold_5 44596 44664 || scaffold_5 44837 44999 || scaffold_5 45227 45352\n",
      "scaffold_5 44837 44999 || scaffold_5 45227 45352 || scaffold_5 48129 48174\n",
      "\n",
      " STRG.9.1\n",
      "scaffold_5 45227 45352 || scaffold_5 48129 48174 || scaffold_5 49274 49409\n",
      "scaffold_5 48129 48174 || scaffold_5 49274 49409 || scaffold_5 49830 49900\n",
      "scaffold_5 49274 49409 || scaffold_5 49830 49900 || scaffold_5 50064 50155\n",
      "scaffold_5 49830 49900 || scaffold_5 50064 50155 || scaffold_5 66359 66463\n",
      "\n",
      " STRG.10.1\n",
      "scaffold_5 50064 50155 || scaffold_5 66359 66463 || scaffold_5 67250 67331\n",
      "scaffold_5 66359 66463 || scaffold_5 67250 67331 || scaffold_5 67636 67742\n",
      "scaffold_5 67250 67331 || scaffold_5 67636 67742 || scaffold_5 68696 68809\n",
      "scaffold_5 67636 67742 || scaffold_5 68696 68809 || scaffold_5 69491 69574\n",
      "scaffold_5 68696 68809 || scaffold_5 69491 69574 || scaffold_5 69749 69846\n",
      "scaffold_5 69491 69574 || scaffold_5 69749 69846 || scaffold_5 70238 70277\n",
      "scaffold_5 69749 69846 || scaffold_5 70238 70277 || None\n"
     ]
    }
   ],
   "source": [
    "print(\"eksony maja swoje poprzedzajace i nastepne eksony\")\n",
    "for name, gene in list(genes.items()):\n",
    "    print(\"\\n\", name)\n",
    "    for exon in gene.exons:\n",
    "        print(exon.prev_exon, \"||\", exon,\"||\", exon.next_exon)"
   ]
  },
  {
   "cell_type": "code",
   "execution_count": 5,
   "id": "subject-separate",
   "metadata": {},
   "outputs": [
    {
     "name": "stdout",
     "output_type": "stream",
     "text": [
      "introny tez maja poprzedzajace i nastepne eksony\n",
      "\n",
      " STRG.6.1\n",
      "True True\n",
      "True True\n",
      "True True\n",
      "True True\n",
      "True True\n",
      "True True\n",
      "\n",
      " STRG.7.1\n",
      "True True\n",
      "True True\n",
      "\n",
      " STRG.8.1\n",
      "True True\n",
      "True True\n",
      "\n",
      " STRG.8.2\n",
      "True True\n",
      "\n",
      " STRG.8.3\n",
      "True True\n",
      "True True\n",
      "\n",
      " STRG.9.1\n",
      "True True\n",
      "True True\n",
      "True True\n",
      "\n",
      " STRG.10.1\n",
      "True True\n",
      "True True\n",
      "True True\n",
      "True True\n",
      "True True\n",
      "True True\n"
     ]
    }
   ],
   "source": [
    "print('introny tez maja poprzedzajace i nastepne eksony')\n",
    "for name, gene in list(genes.items()):\n",
    "    gene.extract_sequence(genome)\n",
    "    gene.create_introns()\n",
    "    print(\"\\n\", name)\n",
    "    for intron in gene.introns:\n",
    "        #print(intron.prev_exon, \"||\", intron.start, intron.end, \"||\", intron.next_exon)\n",
    "        print(intron.prev_exon.end == intron.start, intron.end+1==intron.next_exon.start)"
   ]
  },
  {
   "cell_type": "code",
   "execution_count": 6,
   "id": "duplicate-operation",
   "metadata": {},
   "outputs": [
    {
     "name": "stdout",
     "output_type": "stream",
     "text": [
      "eksony maja tez poprzedzajace i nastepne introny\n",
      "\n",
      " STRG.6.1\n",
      ". True\n",
      "True True\n",
      "True True\n",
      "True True\n",
      "True True\n",
      "True True\n",
      "True .\n",
      "\n",
      " STRG.7.1\n",
      ". True\n",
      "True True\n",
      "True .\n",
      "\n",
      " STRG.8.1\n",
      ". True\n",
      "True True\n",
      "True .\n",
      "\n",
      " STRG.8.2\n",
      ". True\n",
      "True .\n",
      "\n",
      " STRG.8.3\n",
      ". True\n",
      "True True\n",
      "True .\n",
      "\n",
      " STRG.9.1\n",
      ". True\n",
      "True True\n",
      "True True\n",
      "True .\n",
      "\n",
      " STRG.10.1\n",
      ". True\n",
      "True True\n",
      "True True\n",
      "True True\n",
      "True True\n",
      "True True\n",
      "True .\n"
     ]
    }
   ],
   "source": [
    "print(\"eksony maja tez poprzedzajace i nastepne introny\")\n",
    "for name, gene in list(genes.items()):\n",
    "    gene.extract_sequence(genome)\n",
    "    gene.create_introns()\n",
    "    print(\"\\n\", name)\n",
    "    for exon in gene.exons:\n",
    "        #print(exon.prev_intron, \"||\", exon.start, exon.end, \"||\", exon.next_intron)\n",
    "        if exon.prev_intron and exon.next_intron: print(exon.prev_intron.end+1==exon.start, exon.end==exon.next_intron.start)\n",
    "        elif exon.prev_intron and not exon.next_intron: print(exon.prev_intron.end+1==exon.start, \".\")\n",
    "        else: print(\".\", exon.end==exon.next_intron.start)"
   ]
  },
  {
   "cell_type": "markdown",
   "id": "surface-salem",
   "metadata": {},
   "source": [
    "for name, gene in list(genes.items()):\n",
    "    print(\"\\t\", name, len(gene.sequence))\n",
    "    print(\"\\t\", gene.start, gene.end)\n",
    "    for intron in gene.introns:\n",
    "        #print(gene.strand, intron.strand)\n",
    "        #print(intron.scaffold_name, intron.start, intron.end)\n",
    "        \n",
    "        '''\n",
    "        +: intron.start - gene.start : intron.end - gene.start\n",
    "        -: -intron.end + gene.end : -intron.start + gene.end\n",
    "        '''\n",
    "        if gene.strand=='-':\n",
    "            istart, iend = -intron.end + gene.end, -intron.start + gene.end\n",
    "            #marg_l, marg_r = gene.sequence[istart-3:istart], gene.sequence[iend:iend+3]\n",
    "        elif gene.strand=='+':\n",
    "            istart, iend = intron.start-gene.start, intron.end-gene.start\n",
    "        marg_l, marg_r = gene.sequence[istart-3:istart], gene.sequence[iend:iend+3]\n",
    "        print(marg_l, marg_r)"
   ]
  },
  {
   "cell_type": "markdown",
   "id": "chief-bargain",
   "metadata": {},
   "source": [
    "for name,gene in genes.items():\n",
    "    for intron in gene.introns:\n",
    "        print(len(intron.variations))"
   ]
  },
  {
   "cell_type": "code",
   "execution_count": 7,
   "id": "noble-fisher",
   "metadata": {},
   "outputs": [
    {
     "name": "stdout",
     "output_type": "stream",
     "text": [
      "STRG.10349.1 Backbone_42431 34332 34869\n",
      "STRG.23469.1 Backbone_16422 19738 20179\n",
      "STRG.26943.1 Backbone_27702 5991 6323\n",
      "STRG.56728.1 Backbone_6313 2584 3004\n",
      "STRG.63148.1 Backbone_13174 3308 3718\n",
      "STRG.88595.1 Backbone_27075 12309 12861\n",
      "STRG.88966.1 Backbone_28175 71421 71751\n",
      "STRG.98591.1 Backbone_63165 4298 4949\n",
      "STRG.101419.1 Backbone_76035 2888 3274\n",
      "STRG.116446.1 Backbone_52206 27859 28061\n",
      "STRG.118214.1 Backbone_59266 26843 27109\n",
      "STRG.138399.1 Backbone_55817 12402 12603\n",
      "STRG.143276.1 Backbone_75817 1029 1256\n",
      "STRG.161059.1 Backbone_63198 5177 5410\n",
      "STRG.186564.1 Backbone_83739 5483 6006\n",
      "STRG.187684.1 Backbone_10410 50126 50389\n",
      "STRG.199313.1 Backbone_48610 16136 16387\n",
      "STRG.205627.1 Backbone_75270 36904 37164\n"
     ]
    }
   ],
   "source": [
    "path=\"/mnt/archive/euglena_genomy/\"\n",
    "genom_EG=path+\"gracilis/gracilis_dbg2olc.fasta\"\n",
    "geny_EG=path+\"gracilis/gracilis_stringtie_strand_informed.gtf\"\n",
    "\n",
    "genome_EG = introns.read_genome(genom_EG)\n",
    "genes_EG = introns.read_genes(geny_EG)\n",
    "\n",
    "for name, gene in list(genes_EG.items()):\n",
    "    gene.extract_sequence(genome_EG)\n",
    "    gene.create_introns()"
   ]
  },
  {
   "cell_type": "code",
   "execution_count": 8,
   "id": "seven-headset",
   "metadata": {},
   "outputs": [
    {
     "name": "stdout",
     "output_type": "stream",
     "text": [
      "Konwencjonalne: 8332, niekonwencjonalne: 263433, inne: 3491, wszystkie: 275256\n",
      "[8, 58, 546, 458, 4, 211, 1461, 1319]\n"
     ]
    }
   ],
   "source": [
    "conv_count=0\n",
    "uconv_count=0\n",
    "c=[0,0,0,0,0,0,0,0]\n",
    "for name, gene in list(genes_EG.items()):\n",
    "    for intron in gene.introns:\n",
    "        intron.conventional_version()\n",
    "        if intron.check_conventional():\n",
    "            conv_count+=1\n",
    "            if intron.is_conventional:\n",
    "                c[intron.is_conventional-1]+=1\n",
    "        if intron.check_unconventional():\n",
    "            uconv_count+=1\n",
    "        \n",
    "print(\"Konwencjonalne: %d, niekonwencjonalne: %d, inne: %d, wszystkie: %d\" %(conv_count,uconv_count,len(genes_EG)-conv_count-uconv_count,len(genes_EG)))\n",
    "print(c)"
   ]
  }
 ],
 "metadata": {
  "kernelspec": {
   "display_name": "Python 3",
   "language": "python",
   "name": "python3"
  },
  "language_info": {
   "codemirror_mode": {
    "name": "ipython",
    "version": 3
   },
   "file_extension": ".py",
   "mimetype": "text/x-python",
   "name": "python",
   "nbconvert_exporter": "python",
   "pygments_lexer": "ipython3",
   "version": "3.8.5"
  }
 },
 "nbformat": 4,
 "nbformat_minor": 5
}
