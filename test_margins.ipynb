{
 "cells": [
  {
   "cell_type": "code",
   "execution_count": 1,
   "id": "diagnostic-nepal",
   "metadata": {},
   "outputs": [],
   "source": [
    "import sys\n",
    "sys.path.append('/home/semik/projekty/noncanonical_introns/')\n",
    "\n",
    "import pathlib\n",
    "pathlib.Path().absolute()\n",
    "\n",
    "import introns\n",
    "import intron_comparison\n",
    "from collections import defaultdict"
   ]
  },
  {
   "cell_type": "code",
   "execution_count": 2,
   "id": "structured-suggestion",
   "metadata": {},
   "outputs": [],
   "source": [
    "genome_file = '/home/semik/projekty/noncanonical_introns/bugtest.fasta'\n",
    "genes_file = '/home/semik/projekty/noncanonical_introns/bugtest.gtf'\n",
    "genome = introns.read_genome(genome_file)\n",
    "genes = introns.read_genes(genes_file)"
   ]
  },
  {
   "cell_type": "code",
   "execution_count": 3,
   "id": "little-adrian",
   "metadata": {},
   "outputs": [],
   "source": [
    "for name, gene in list(genes.items()):\n",
    "    gene.extract_sequence(genome)\n",
    "    gene.create_introns()"
   ]
  },
  {
   "cell_type": "code",
   "execution_count": 4,
   "id": "colonial-andrews",
   "metadata": {},
   "outputs": [],
   "source": [
    "for name, gene in list(genes.items()):\n",
    "    for intron in gene.introns:\n",
    "        for var in intron.variations:\n",
    "            if not var.prev_exon.scaffold_end == var.scaffold_start or not var.scaffold_end+1==var.next_exon.scaffold_start:\n",
    "                print('xle')"
   ]
  },
  {
   "cell_type": "code",
   "execution_count": 5,
   "id": "random-shaft",
   "metadata": {},
   "outputs": [
    {
     "name": "stdout",
     "output_type": "stream",
     "text": [
      "sprawdzanie, czy tworza sie dobre gene_start i gene_end\n",
      "5362 5685\n",
      "4719 5256\n",
      "3207 4606\n",
      "1421 3031\n",
      "330 1392\n",
      "151 245\n",
      "6739 7060\n",
      "274 6710\n",
      "70 226\n",
      "409 639\n",
      "403 630\n",
      "68 240\n",
      "403 630\n",
      "45 1144\n",
      "1280 1700\n",
      "1771 1934\n",
      "104 890\n",
      "972 1276\n",
      "1383 2336\n",
      "2450 3131\n",
      "3215 3389\n",
      "3487 3878\n"
     ]
    }
   ],
   "source": [
    "print('sprawdzanie, czy tworza sie dobre gene_start i gene_end')\n",
    "for name, gene in list(genes.items()):\n",
    "    for intron in gene.introns:\n",
    "        if not intron.scaffold_end-intron.scaffold_start == intron.gene_end-intron.gene_start: print(\"zla dlugosc\")\n",
    "        if not intron.scaffold_start in range(intron.gene.scaffold_start,intron.gene.scaffold_end) and not intron.scaffold_end in range(intron.gene.scaffold_start, intron.gene.scaffold_end): print(\"zle\")\n",
    "        print(intron.gene_start, intron.gene_end)"
   ]
  },
  {
   "cell_type": "code",
   "execution_count": 6,
   "id": "atmospheric-halloween",
   "metadata": {},
   "outputs": [
    {
     "name": "stdout",
     "output_type": "stream",
     "text": [
      "eksony maja swoje poprzedzajace i nastepne eksony\n",
      "\n",
      " STRG.6.1\n",
      "None || scaffold_5 661 759 || scaffold_5 1083 1188\n",
      "scaffold_5 661 759 || scaffold_5 1083 1188 || scaffold_5 1726 1838\n",
      "scaffold_5 1083 1188 || scaffold_5 1726 1838 || scaffold_5 3238 3413\n",
      "scaffold_5 1726 1838 || scaffold_5 3238 3413 || scaffold_5 5024 5052\n",
      "scaffold_5 3238 3413 || scaffold_5 5024 5052 || scaffold_5 6115 6199\n",
      "scaffold_5 5024 5052 || scaffold_5 6115 6199 || scaffold_5 6294 6444\n",
      "scaffold_5 6115 6199 || scaffold_5 6294 6444 || scaffold_5 13989 14051\n",
      "\n",
      " STRG.7.1\n",
      "scaffold_5 6294 6444 || scaffold_5 13989 14051 || scaffold_5 14373 14401\n",
      "scaffold_5 13989 14051 || scaffold_5 14373 14401 || scaffold_5 20838 21111\n",
      "scaffold_5 14373 14401 || scaffold_5 20838 21111 || scaffold_5 44596 44666\n",
      "\n",
      " STRG.8.1\n",
      "scaffold_5 20838 21111 || scaffold_5 44596 44666 || scaffold_5 44823 45005\n",
      "scaffold_5 44596 44666 || scaffold_5 44823 45005 || scaffold_5 45236 45352\n",
      "scaffold_5 44823 45005 || scaffold_5 45236 45352 || scaffold_5 44596 44999\n",
      "\n",
      " STRG.8.2\n",
      "scaffold_5 45236 45352 || scaffold_5 44596 44999 || scaffold_5 45227 45352\n",
      "scaffold_5 44596 44999 || scaffold_5 45227 45352 || scaffold_5 44596 44664\n",
      "\n",
      " STRG.8.3\n",
      "scaffold_5 45227 45352 || scaffold_5 44596 44664 || scaffold_5 44837 44999\n",
      "scaffold_5 44596 44664 || scaffold_5 44837 44999 || scaffold_5 45227 45352\n",
      "scaffold_5 44837 44999 || scaffold_5 45227 45352 || scaffold_5 48129 48174\n",
      "\n",
      " STRG.9.1\n",
      "scaffold_5 45227 45352 || scaffold_5 48129 48174 || scaffold_5 49274 49409\n",
      "scaffold_5 48129 48174 || scaffold_5 49274 49409 || scaffold_5 49830 49900\n",
      "scaffold_5 49274 49409 || scaffold_5 49830 49900 || scaffold_5 50064 50155\n",
      "scaffold_5 49830 49900 || scaffold_5 50064 50155 || scaffold_5 66359 66463\n",
      "\n",
      " STRG.10.1\n",
      "scaffold_5 50064 50155 || scaffold_5 66359 66463 || scaffold_5 67250 67331\n",
      "scaffold_5 66359 66463 || scaffold_5 67250 67331 || scaffold_5 67636 67742\n",
      "scaffold_5 67250 67331 || scaffold_5 67636 67742 || scaffold_5 68696 68809\n",
      "scaffold_5 67636 67742 || scaffold_5 68696 68809 || scaffold_5 69491 69574\n",
      "scaffold_5 68696 68809 || scaffold_5 69491 69574 || scaffold_5 69749 69846\n",
      "scaffold_5 69491 69574 || scaffold_5 69749 69846 || scaffold_5 70238 70277\n",
      "scaffold_5 69749 69846 || scaffold_5 70238 70277 || None\n"
     ]
    }
   ],
   "source": [
    "print(\"eksony maja swoje poprzedzajace i nastepne eksony\")\n",
    "for name, gene in list(genes.items()):\n",
    "    print(\"\\n\", name)\n",
    "    for exon in gene.exons:\n",
    "        print(exon.prev_exon, \"||\", exon,\"||\", exon.next_exon)"
   ]
  },
  {
   "cell_type": "code",
   "execution_count": 7,
   "id": "cathedral-decline",
   "metadata": {},
   "outputs": [
    {
     "name": "stdout",
     "output_type": "stream",
     "text": [
      "introny tez maja poprzedzajace i nastepne eksony\n",
      "\n",
      " STRG.6.1\n",
      "True True\n",
      "True True\n",
      "True True\n",
      "True True\n",
      "True True\n",
      "True True\n",
      "\n",
      " STRG.7.1\n",
      "True True\n",
      "True True\n",
      "\n",
      " STRG.8.1\n",
      "True True\n",
      "True True\n",
      "\n",
      " STRG.8.2\n",
      "True True\n",
      "\n",
      " STRG.8.3\n",
      "True True\n",
      "True True\n",
      "\n",
      " STRG.9.1\n",
      "True True\n",
      "True True\n",
      "True True\n",
      "\n",
      " STRG.10.1\n",
      "True True\n",
      "True True\n",
      "True True\n",
      "True True\n",
      "True True\n",
      "True True\n"
     ]
    }
   ],
   "source": [
    "print('introny tez maja poprzedzajace i nastepne eksony')\n",
    "for name, gene in list(genes.items()):\n",
    "    gene.extract_sequence(genome)\n",
    "    gene.create_introns()\n",
    "    print(\"\\n\", name)\n",
    "    for intron in gene.introns:\n",
    "        #print(intron.prev_exon, \"||\", intron.scaffold_start, intron.scaffold_end, \"||\", intron.next_exon)\n",
    "        print(intron.prev_exon.scaffold_end == intron.scaffold_start, intron.scaffold_end+1==intron.next_exon.scaffold_start)"
   ]
  },
  {
   "cell_type": "code",
   "execution_count": 8,
   "id": "brave-philosophy",
   "metadata": {},
   "outputs": [
    {
     "name": "stdout",
     "output_type": "stream",
     "text": [
      "eksony maja tez poprzedzajace i nastepne introny\n",
      "\n",
      " STRG.6.1\n",
      ". True\n",
      "True True\n",
      "True True\n",
      "True True\n",
      "True True\n",
      "True True\n",
      "True .\n",
      "\n",
      " STRG.7.1\n",
      ". True\n",
      "True True\n",
      "True .\n",
      "\n",
      " STRG.8.1\n",
      ". True\n",
      "True True\n",
      "True .\n",
      "\n",
      " STRG.8.2\n",
      ". True\n",
      "True .\n",
      "\n",
      " STRG.8.3\n",
      ". True\n",
      "True True\n",
      "True .\n",
      "\n",
      " STRG.9.1\n",
      ". True\n",
      "True True\n",
      "True True\n",
      "True .\n",
      "\n",
      " STRG.10.1\n",
      ". True\n",
      "True True\n",
      "True True\n",
      "True True\n",
      "True True\n",
      "True True\n",
      "True .\n"
     ]
    }
   ],
   "source": [
    "print(\"eksony maja tez poprzedzajace i nastepne introny\")\n",
    "for name, gene in list(genes.items()):\n",
    "    gene.extract_sequence(genome)\n",
    "    gene.create_introns()\n",
    "    print(\"\\n\", name)\n",
    "    for exon in gene.exons:\n",
    "        #print(exon.prev_intron, \"||\", exon.scaffold_start, exon.scaffold_end, \"||\", exon.next_intron)\n",
    "        if exon.prev_intron and exon.next_intron: print(exon.prev_intron.scaffold_end+1==exon.scaffold_start, exon.scaffold_end==exon.next_intron.scaffold_start)\n",
    "        elif exon.prev_intron and not exon.next_intron: print(exon.prev_intron.scaffold_end+1==exon.scaffold_start, \".\")\n",
    "        else: print(\".\", exon.scaffold_end==exon.next_intron.scaffold_start)"
   ]
  },
  {
   "cell_type": "code",
   "execution_count": 9,
   "id": "acoustic-equation",
   "metadata": {},
   "outputs": [
    {
     "name": "stdout",
     "output_type": "stream",
     "text": [
      "STRG.10349.1 Backbone_42431 34332 34869\n",
      "STRG.23469.1 Backbone_16422 19738 20179\n",
      "STRG.26943.1 Backbone_27702 5991 6323\n",
      "STRG.56728.1 Backbone_6313 2584 3004\n",
      "STRG.63148.1 Backbone_13174 3308 3718\n",
      "STRG.88595.1 Backbone_27075 12309 12861\n",
      "STRG.88966.1 Backbone_28175 71421 71751\n",
      "STRG.98591.1 Backbone_63165 4298 4949\n",
      "STRG.101419.1 Backbone_76035 2888 3274\n",
      "STRG.116446.1 Backbone_52206 27859 28061\n",
      "STRG.118214.1 Backbone_59266 26843 27109\n",
      "STRG.138399.1 Backbone_55817 12402 12603\n",
      "STRG.143276.1 Backbone_75817 1029 1256\n",
      "STRG.161059.1 Backbone_63198 5177 5410\n",
      "STRG.186564.1 Backbone_83739 5483 6006\n",
      "STRG.187684.1 Backbone_10410 50126 50389\n",
      "STRG.199313.1 Backbone_48610 16136 16387\n",
      "STRG.205627.1 Backbone_75270 36904 37164\n"
     ]
    }
   ],
   "source": [
    "path=\"/mnt/archive/euglena_genomy/\"\n",
    "genom_EG=path+\"gracilis/gracilis_dbg2olc.fasta\"\n",
    "geny_EG=path+\"gracilis/gracilis_stringtie_strand_informed.gtf\"\n",
    "\n",
    "genome_EG = introns.read_genome(genom_EG)\n",
    "genes_EG = introns.read_genes(geny_EG)\n",
    "\n",
    "for name, gene in list(genes_EG.items()):\n",
    "    gene.extract_sequence(genome_EG)\n",
    "    gene.create_introns()"
   ]
  },
  {
   "cell_type": "code",
   "execution_count": 10,
   "id": "informed-market",
   "metadata": {},
   "outputs": [
    {
     "name": "stdout",
     "output_type": "stream",
     "text": [
      "Wersje intronow konwencjonalnych\n",
      "[8, 58, 546, 458, 4, 211, 1461, 1319]\n"
     ]
    }
   ],
   "source": [
    "conv_count=0\n",
    "nconv_count=0\n",
    "both_count=0\n",
    "\n",
    "print(\"Wersje intronow konwencjonalnych\")\n",
    "c=[0,0,0,0,0,0,0,0]\n",
    "for name, gene in list(genes_EG.items()):\n",
    "    for intron in gene.introns:\n",
    "        intron.conventional_version()\n",
    "        if intron.is_conventional:\n",
    "            c[intron.is_conventional-1]+=1\n",
    "            conv_count+=1\n",
    "print(c)"
   ]
  },
  {
   "cell_type": "code",
   "execution_count": 11,
   "id": "permanent-surgery",
   "metadata": {},
   "outputs": [
    {
     "name": "stdout",
     "output_type": "stream",
     "text": [
      "nie ma żadnych intronow, ktorych jakakolwiek wariacja miałaby lepsza konwencjonalną wersję niż ten podstawowy\n"
     ]
    }
   ],
   "source": [
    "c2=[0,0,0,0,0,0,0,0]\n",
    "\n",
    "def rate(wersja):\n",
    "    wagi={0:0, 1:1, 2:3, 3:5, 4:7, 5:2, 6:4, 7:6, 8:8}\n",
    "    return wagi.get(wersja)\n",
    "\n",
    "for name, gene in list(genes_EG.items()):\n",
    "    for intron in gene.introns:\n",
    "        intron.conventional_version()\n",
    "        int_rate = rate(intron.is_conventional)\n",
    "        \n",
    "        for version in intron.variations:\n",
    "            version.conventional_version()\n",
    "            var_rate = rate(version.is_conventional)\n",
    "            \n",
    "            if int_rate and var_rate and int_rate<var_rate: print(int_rate, var_rate)\n",
    "print(\"nie ma żadnych intronow, ktorych jakakolwiek wariacja miałaby lepsza konwencjonalną wersję niż ten podstawowy\")"
   ]
  },
  {
   "cell_type": "code",
   "execution_count": 12,
   "id": "prepared-charity",
   "metadata": {},
   "outputs": [
    {
     "name": "stdout",
     "output_type": "stream",
     "text": [
      "wersje intronow niekonwencjonalnych\n",
      "[865175, 244, 348, 166, 452, 354, 69, 655, 3996, 3252, 61605, 79371]\n"
     ]
    }
   ],
   "source": [
    "print('wersje intronow niekonwencjonalnych')\n",
    "c3=[0,0,0,0,0,0,0,0,0,0,0,0]\n",
    "for name, gene in list(genes_EG.items()):\n",
    "    for intron in gene.introns:\n",
    "        intron.nonconventional_version()\n",
    "        c3[intron.is_nonconventional]+=1\n",
    "        if intron.is_nonconventional:\n",
    "            nconv_count+=1\n",
    "            if intron.is_conventional:\n",
    "                both_count+=1\n",
    "            \n",
    "print(c3)"
   ]
  },
  {
   "cell_type": "code",
   "execution_count": 13,
   "id": "affiliated-intellectual",
   "metadata": {},
   "outputs": [
    {
     "name": "stdout",
     "output_type": "stream",
     "text": [
      "sprawdzenie, czy sa warianty intronow, ktore maja lepsza kategorie niekonwencjonalnosci\n",
      "6450\n",
      "[(10, 11), (7, 10), (10, 11), (10, 11), (10, 11), (10, 11), (10, 11), (10, 11), (10, 11), (10, 11)]\n",
      "mimo ze nie mamy poprzedzajacych i kolejnych eksonow dla wariacji intronow, to jest ich sporo\n"
     ]
    }
   ],
   "source": [
    "print('sprawdzenie, czy sa warianty intronow, ktore maja lepsza kategorie niekonwencjonalnosci')\n",
    "diff_count=0\n",
    "ls=[]\n",
    "for name, gene in list(genes_EG.items()):\n",
    "    for intron in gene.introns:\n",
    "        for var in intron.variations:\n",
    "            var.nonconventional_version()\n",
    "            if var.is_nonconventional and var.is_nonconventional < intron.is_nonconventional:\n",
    "                diff_count+=1\n",
    "                ls.append((var.is_nonconventional, intron.is_nonconventional))\n",
    "print(diff_count)\n",
    "print(ls[:10])\n",
    "print(\"mimo ze nie mamy poprzedzajacych i kolejnych eksonow dla wariacji intronow, to jest ich sporo\")"
   ]
  },
  {
   "cell_type": "code",
   "execution_count": 14,
   "id": "relevant-chicken",
   "metadata": {},
   "outputs": [
    {
     "name": "stdout",
     "output_type": "stream",
     "text": [
      "Konwencjonalne: 4065, niekonwencjonalne: 150512, oba: 574 inne: 861684, wszystkie: 275256\n"
     ]
    }
   ],
   "source": [
    "non_count=0\n",
    "for name, gene in list(genes_EG.items()):\n",
    "    for intron in gene.introns:\n",
    "        if not intron.is_conventional and not intron.is_nonconventional:\n",
    "            non_count+=1\n",
    "print(\"Konwencjonalne: %d, niekonwencjonalne: %d, oba: %d inne: %d, wszystkie: %d\" %(conv_count,nconv_count, both_count,non_count,len(genes_EG)))"
   ]
  },
  {
   "cell_type": "code",
   "execution_count": 15,
   "id": "genetic-melbourne",
   "metadata": {},
   "outputs": [
    {
     "name": "stdout",
     "output_type": "stream",
     "text": [
      "90\n"
     ]
    }
   ],
   "source": [
    "bla = []\n",
    "for i in ls:\n",
    "    if i[0] < 5:\n",
    "        bla.append(i)\n",
    "print(len(bla))"
   ]
  }
 ],
 "metadata": {
  "kernelspec": {
   "display_name": "Python 3",
   "language": "python",
   "name": "python3"
  },
  "language_info": {
   "codemirror_mode": {
    "name": "ipython",
    "version": 3
   },
   "file_extension": ".py",
   "mimetype": "text/x-python",
   "name": "python",
   "nbconvert_exporter": "python",
   "pygments_lexer": "ipython3",
   "version": "3.8.5"
  }
 },
 "nbformat": 4,
 "nbformat_minor": 5
}
