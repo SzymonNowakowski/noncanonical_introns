{
 "cells": [
  {
   "cell_type": "code",
   "execution_count": 1,
   "metadata": {},
   "outputs": [],
   "source": [
    "import introns"
   ]
  },
  {
   "cell_type": "code",
   "execution_count": 79,
   "metadata": {},
   "outputs": [
    {
     "data": {
      "text/plain": [
       "<module 'introns' from '/home/halakuc/genomy/busco/noncanonical_introns/introns.py'>"
      ]
     },
     "execution_count": 79,
     "metadata": {},
     "output_type": "execute_result"
    }
   ],
   "source": [
    "from importlib import reload\n",
    "reload(introns)"
   ]
  },
  {
   "cell_type": "code",
   "execution_count": 2,
   "metadata": {},
   "outputs": [],
   "source": [
    "def prepare_transcripts(gtf_path, genome_path, fasta_out_path):\n",
    "    genome = introns.read_genome(genome_path)\n",
    "    genes = introns.read_genes(gtf_path)\n",
    "    for_print = []\n",
    "    for name, gene in genes.items():\n",
    "        gene.extract_sequence(genome)\n",
    "        for_print.append([name, gene.transcript.sequence])\n",
    "    with open(fasta_out_path, 'w') as out_file:\n",
    "        for gene in for_print:\n",
    "            out_file.write(\">\" + gene[0] + '\\n')\n",
    "            out_file.write(gene[1] + '\\n')"
   ]
  },
  {
   "cell_type": "code",
   "execution_count": 4,
   "metadata": {},
   "outputs": [],
   "source": [
    "hiemalis_gtf = \"/home/halakuc/hiemalis_important/stringtie_strand_informed3.gtf\"\n",
    "hiemalis_genome = \"/home/halakuc/genomy/hiemalis_rascaf.fasta\"\n",
    "\n",
    "prepare_transcripts(hiemalis_gtf, hiemalis_genome, '/home/halakuc/genomy/busco/hiemalis_genes_v4.fasta')"
   ]
  },
  {
   "cell_type": "code",
   "execution_count": 5,
   "metadata": {},
   "outputs": [
    {
     "name": "stdout",
     "output_type": "stream",
     "text": [
      "STRG.8632.1 scaffold_5860 36362 36570\n"
     ]
    }
   ],
   "source": [
    "longa_genome = '/home/halakuc/genomy/longa_rascaf.fasta'\n",
    "longa_gtf = '/home/halakuc/longa/important/longa_stringtie_strand_informed.gtf'\n",
    "\n",
    "prepare_transcripts(longa_gtf, longa_genome, '/home/halakuc/genomy/busco/longa_genes_v4.fasta')"
   ]
  },
  {
   "cell_type": "code",
   "execution_count": 6,
   "metadata": {},
   "outputs": [
    {
     "name": "stdout",
     "output_type": "stream",
     "text": [
      "STRG.187684.1 Backbone_10410 50126 50389\n",
      "STRG.199313.1 Backbone_48610 16136 16387\n",
      "STRG.205627.1 Backbone_75270 36904 37164\n",
      "STRG.118214.1 Backbone_59266 26843 27109\n",
      "STRG.98591.1 Backbone_63165 4298 4949\n",
      "STRG.23469.1 Backbone_16422 19738 20179\n",
      "STRG.26943.1 Backbone_27702 5991 6323\n",
      "STRG.138399.1 Backbone_55817 12402 12603\n",
      "STRG.10349.1 Backbone_42431 34332 34869\n",
      "STRG.56728.1 Backbone_6313 2584 3004\n",
      "STRG.116446.1 Backbone_52206 27859 28061\n",
      "STRG.88595.1 Backbone_27075 12309 12861\n",
      "STRG.63148.1 Backbone_13174 3308 3718\n",
      "STRG.88966.1 Backbone_28175 71421 71751\n",
      "STRG.143276.1 Backbone_75817 1029 1256\n",
      "STRG.161059.1 Backbone_63198 5177 5410\n",
      "STRG.101419.1 Backbone_76035 2888 3274\n",
      "STRG.186564.1 Backbone_83739 5483 6006\n"
     ]
    }
   ],
   "source": [
    "gracilis_genome = '/home/halakuc/genomy/gracilis_dbg2olc.fasta'\n",
    "gracilis_gtf = '/home/halakuc/gracilis_important/gracilis_stringtie_strand_informed.gtf'\n",
    "\n",
    "prepare_transcripts(gracilis_gtf, gracilis_genome, '/home/halakuc/genomy/busco/gracilis_genes_v4.fasta')"
   ]
  },
  {
   "cell_type": "markdown",
   "metadata": {},
   "source": [
    "### Introny"
   ]
  },
  {
   "cell_type": "code",
   "execution_count": 64,
   "metadata": {},
   "outputs": [],
   "source": [
    "longa_genome = '/home/halakuc/genomy/longa_rascaf.fasta'\n",
    "longa_gtf = '/home/halakuc/longa/important/longa_stringtie_strand_informed.gtf'\n",
    "genome = introns.read_genome(longa_genome)\n",
    "genes = introns.read_genes(longa_gtf)\n",
    "for gene in genes:\n",
    "    gene.extract_sequence(genome)\n",
    "for gene in genes:\n",
    "    gene.create_introns()\n"
   ]
  },
  {
   "cell_type": "code",
   "execution_count": 42,
   "metadata": {},
   "outputs": [],
   "source": [
    "import intron_comparison"
   ]
  },
  {
   "cell_type": "code",
   "execution_count": 67,
   "metadata": {},
   "outputs": [
    {
     "name": "stdout",
     "output_type": "stream",
     "text": [
      "liczba intronow:  221268\n"
     ]
    }
   ],
   "source": [
    "other_introns = []\n",
    "for gene in genes:\n",
    "    for intron in gene.introns:\n",
    "        other_introns.append(intron)\n",
    "print('liczba intronow: ', len(other_introns))"
   ]
  },
  {
   "cell_type": "code",
   "execution_count": 44,
   "metadata": {},
   "outputs": [
    {
     "name": "stdout",
     "output_type": "stream",
     "text": [
      "All my introns:  21844\n",
      "n of pairs:  58495\n",
      "no match:  2338\n"
     ]
    }
   ],
   "source": []
  },
  {
   "cell_type": "code",
   "execution_count": 69,
   "metadata": {},
   "outputs": [
    {
     "name": "stdout",
     "output_type": "stream",
     "text": [
      "liczba unikalnych intronów:  131763\n",
      "średnia, mediana długości:\n",
      "703.8722630784059\n",
      "407\n"
     ]
    }
   ],
   "source": [
    "from statistics import median\n",
    "\n",
    "unique = set()\n",
    "unique_introns = []\n",
    "for intron in other_introns:\n",
    "    if str(intron) not in unique:\n",
    "        unique.add(str(intron))\n",
    "        unique_introns.append(intron)\n",
    "print('liczba unikalnych intronów: ', len(unique_introns))\n",
    "\n",
    "print('średnia, mediana długości:')\n",
    "print(sum([intron.length() for intron in unique_introns]) / len(unique_introns))\n",
    "print(median([intron.length() for intron in unique_introns]))"
   ]
  },
  {
   "cell_type": "code",
   "execution_count": 31,
   "metadata": {},
   "outputs": [],
   "source": []
  },
  {
   "cell_type": "code",
   "execution_count": 70,
   "metadata": {},
   "outputs": [],
   "source": [
    "with open(path + 'longa_directed_50.fasta', 'w') as f_out:\n",
    "    for intron in unique_introns:\n",
    "        name = '>' + intron.scaffold + ':' + str(intron.start) + '-' + str(intron.end)\n",
    "        f_out.write(name)\n",
    "        f_out.write('\\n')\n",
    "        f_out.write(intron.sequence)\n",
    "        f_out.write('\\n')"
   ]
  },
  {
   "cell_type": "code",
   "execution_count": 71,
   "metadata": {},
   "outputs": [
    {
     "name": "stdout",
     "output_type": "stream",
     "text": [
      "strand +\n",
      "niekonwencjonalne:  0\n",
      "niekonwencjonalne:  17946\n",
      "pozostałe:  48502\n"
     ]
    }
   ],
   "source": [
    "conv = []\n",
    "non_conv = []\n",
    "rest = []\n",
    "for intron in unique_introns:\n",
    "    if intron.strand == '-':\n",
    "        continue\n",
    "    intron.movable_boundary()\n",
    "    if intron.check_conventional():\n",
    "        conv.append(intron)\n",
    "#         print(intron.sequence)\n",
    "#         break\n",
    "    elif intron.check_unconventional():\n",
    "        non_conv.append(intron)\n",
    "    else:\n",
    "        rest.append(intron)\n",
    "        \n",
    "print('strand +')\n",
    "print('niekonwencjonalne: ', len(conv))\n",
    "print('niekonwencjonalne: ', len(non_conv))\n",
    "print('pozostałe: ', len(rest))"
   ]
  },
  {
   "cell_type": "code",
   "execution_count": 72,
   "metadata": {},
   "outputs": [
    {
     "name": "stdout",
     "output_type": "stream",
     "text": [
      "strand -\n",
      "niekonwencjonalne:  0\n",
      "niekonwencjonalne:  16534\n",
      "pozostałe:  48781\n"
     ]
    }
   ],
   "source": [
    "conv = []\n",
    "non_conv = []\n",
    "rest = []\n",
    "for intron in unique_introns:\n",
    "    if intron.strand == '+':\n",
    "        continue\n",
    "    intron.movable_boundary()\n",
    "    if intron.check_conventional():\n",
    "        conv.append(intron)\n",
    "#         print(intron.sequence)\n",
    "#         break\n",
    "    elif intron.check_unconventional():\n",
    "        non_conv.append(intron)\n",
    "    else:\n",
    "        rest.append(intron)\n",
    "        \n",
    "print('strand -')\n",
    "print('niekonwencjonalne: ', len(conv))\n",
    "print('niekonwencjonalne: ', len(non_conv))\n",
    "print('pozostałe: ', len(rest))"
   ]
  },
  {
   "cell_type": "code",
   "execution_count": 73,
   "metadata": {},
   "outputs": [
    {
     "name": "stdout",
     "output_type": "stream",
     "text": [
      "{'+': 66448, '-': 65315}\n"
     ]
    }
   ],
   "source": [
    "count = {}\n",
    "for intron in unique_introns:\n",
    "    if intron.strand not in count.keys():\n",
    "        count[intron.strand] = 1\n",
    "    else:\n",
    "        count[intron.strand] += 1\n",
    "print(count)"
   ]
  },
  {
   "cell_type": "code",
   "execution_count": null,
   "metadata": {},
   "outputs": [],
   "source": []
  }
 ],
 "metadata": {
  "kernelspec": {
   "display_name": "Python 3",
   "language": "python",
   "name": "python3"
  },
  "language_info": {
   "codemirror_mode": {
    "name": "ipython",
    "version": 3
   },
   "file_extension": ".py",
   "mimetype": "text/x-python",
   "name": "python",
   "nbconvert_exporter": "python",
   "pygments_lexer": "ipython3",
   "version": "3.5.2"
  }
 },
 "nbformat": 4,
 "nbformat_minor": 2
}
