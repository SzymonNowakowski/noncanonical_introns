{
 "cells": [
  {
   "cell_type": "code",
   "execution_count": 1,
   "id": "disturbed-dollar",
   "metadata": {},
   "outputs": [],
   "source": [
    "import sys  \n",
    "sys.path.insert(0, '/scratch/szym/introns/noncanonical_introns')    # path to the working directory - change it !!!\n",
    "\n",
    "from representation_wrapper import RepresentationWrapper\n",
    "from Bio.SeqIO.FastaIO import SimpleFastaParser\n",
    "import time\n",
    "import pickle\n",
    "import pandas\n",
    "import matplotlib.pyplot as plt"
   ]
  },
  {
   "cell_type": "markdown",
   "id": "61a4125e-aad0-4e51-b932-b7725c678fd3",
   "metadata": {},
   "source": [
    "# Reading the sequences and assigning labels\n",
    "\n",
    "Below `types` variable contains a label of the sequence (`0` is conventional, `1` non-conventional). "
   ]
  },
  {
   "cell_type": "code",
   "execution_count": 2,
   "id": "closing-scale",
   "metadata": {},
   "outputs": [
    {
     "name": "stdout",
     "output_type": "stream",
     "text": [
      "Elapsed 0.06040048599243164 seconds\n"
     ]
    }
   ],
   "source": [
    "started = time.time()\n",
    "file = '/scratch/szym/introns/subset.fasta'\n",
    "with open(file, \"r\") as handle:\n",
    "    sequences = list(SimpleFastaParser(handle))\n",
    "    \n",
    "types = [0]*len(sequences)\n",
    "for i, s in enumerate(sequences):\n",
    "    class_signature=s[0][-2:]\n",
    "    if class_signature == \"KX\":    \n",
    "        # 0  for conventional intron\n",
    "        types[i] = (0)\n",
    "    else:\n",
    "        # 1 for nonconventional\n",
    "        types[i] = (1)\n",
    "\n",
    "print(\"Elapsed\",time.time()-started, \"seconds\")"
   ]
  },
  {
   "cell_type": "markdown",
   "id": "74387019-ba42-4e87-90f3-1c3504219e0f",
   "metadata": {},
   "source": [
    "# Creating a `Representation Wrapper` class object\n",
    "\n",
    "This object is named `representations`. It basically only loads the data into the object, no representation is yet created. \n",
    "\n"
   ]
  },
  {
   "cell_type": "code",
   "execution_count": 3,
   "id": "interior-abuse",
   "metadata": {},
   "outputs": [
    {
     "name": "stdout",
     "output_type": "stream",
     "text": [
      "Elapsed 0.0051233768463134766 seconds\n"
     ]
    }
   ],
   "source": [
    "started = time.time()\n",
    "representations = RepresentationWrapper(sequences, \"list_of_FASTA_pairs\", \"ACTG\", '_', labels=types)\n",
    "print(\"Elapsed\",time.time()-started, \"seconds\") "
   ]
  },
  {
   "cell_type": "markdown",
   "id": "7db02de0-015a-4bc1-846b-d778147e0c19",
   "metadata": {},
   "source": [
    "# Checking if everything is OK. \n",
    "\n",
    "`sanity_check()` method returns `True` if everything is OK or `False` with a problem description."
   ]
  },
  {
   "cell_type": "code",
   "execution_count": 4,
   "id": "c6090fbf-2ddc-4927-bdd2-ab2482c91d4c",
   "metadata": {},
   "outputs": [
    {
     "data": {
      "text/plain": [
       "(True, 'Everything OK')"
      ]
     },
     "execution_count": 4,
     "metadata": {},
     "output_type": "execute_result"
    }
   ],
   "source": [
    "representations.sanity_check()"
   ]
  },
  {
   "cell_type": "markdown",
   "id": "9627dd80-e0e1-4086-afb4-10266f0c24ec",
   "metadata": {},
   "source": [
    "# TfIdf representation\n",
    "Creating a vector **TfIdf representation**. It is returned in a form of a Scipy sparse matrix with as many rows as there were sequences. \n",
    "\n",
    "\n",
    "1. `ngram_length` is the length of internally built n-grams. N-gram length default value is 4, but it can be changed by providing `ngram_length=` parameter.\n",
    "1. `space_treatment` is one of\n",
    "    * `\"include\"` - it will treat space as a regular alphabet characters e.g. for \"atcg_attcg\" will be decomposed into 9 n-grams with length n=4: atcg, tcg_, cg_a, g_at, _att, attc, ttcg\n",
    "    * `\"exclude\"` (default) - it will exclude all n-grams with spaces, e.g. string \"atcg_attcg\" will be decomposed into 3 n-grams with length n=4: atcg, attc, ttcg\n",
    "    \n",
    "In the example below, `ngram_length` is changed to 3 and spaces are excluded from the alphabet."
   ]
  },
  {
   "cell_type": "code",
   "execution_count": 5,
   "id": "elegant-origin",
   "metadata": {},
   "outputs": [
    {
     "name": "stdout",
     "output_type": "stream",
     "text": [
      "Elapsed 6.876007080078125 seconds\n"
     ]
    }
   ],
   "source": [
    "started = time.time()\n",
    "x=representations.to_TfIdf(ngram_length=3, space_treatment = \"exclude\")\n",
    "print(\"Elapsed\",time.time()-started, \"seconds\")"
   ]
  },
  {
   "cell_type": "code",
   "execution_count": 6,
   "id": "b71e5637-44f9-467a-901c-b22dc594872f",
   "metadata": {},
   "outputs": [
    {
     "data": {
      "text/plain": [
       "<10000x64 sparse matrix of type '<class 'numpy.float32'>'\n",
       "\twith 610071 stored elements in Compressed Sparse Row format>"
      ]
     },
     "execution_count": 6,
     "metadata": {},
     "output_type": "execute_result"
    }
   ],
   "source": [
    "x"
   ]
  },
  {
   "cell_type": "markdown",
   "id": "ed2827d5-7328-4ac9-82b8-371f7869f9e0",
   "metadata": {},
   "source": [
    "## Another example of TfIdf representation\n",
    "\n",
    "This time `ngram_length` is the default (=4) and spaces are included in the alphabet. "
   ]
  },
  {
   "cell_type": "code",
   "execution_count": 7,
   "id": "closing-ready",
   "metadata": {},
   "outputs": [
    {
     "name": "stdout",
     "output_type": "stream",
     "text": [
      "Elapsed 7.102266550064087 seconds\n"
     ]
    }
   ],
   "source": [
    "started = time.time()\n",
    "x=representations.to_TfIdf(space_treatment = \"include\")\n",
    "print(\"Elapsed\",time.time()-started, \"seconds\")"
   ]
  },
  {
   "cell_type": "code",
   "execution_count": 8,
   "id": "9c3a80a9-b46a-43ab-a4a4-4259bdccce4b",
   "metadata": {},
   "outputs": [
    {
     "data": {
      "text/plain": [
       "<10000x256 sparse matrix of type '<class 'numpy.float32'>'\n",
       "\twith 1939343 stored elements in Compressed Sparse Row format>"
      ]
     },
     "execution_count": 8,
     "metadata": {},
     "output_type": "execute_result"
    }
   ],
   "source": [
    "x"
   ]
  },
  {
   "cell_type": "markdown",
   "id": "29a1cfe9-0f62-4314-8d54-096f0a56361a",
   "metadata": {},
   "source": [
    "# Bag of words representation\n",
    "Creating a vector **Bag of words representation**. It is returned in a form of a **Scipy integer-based** sparse matrix with as many rows as there were sequences, counting occurences of each n-gram. \n",
    "\n",
    "\n",
    "1. `ngram_length` is the length of internally built n-grams. N-gram length default value is 4, but it can be changed by providing `ngram_length=` parameter.\n",
    "1. `space_treatment` is one of\n",
    "    * `\"include\"` - it will treat space as a regular alphabet characters e.g. for \"atcg_attcg\" will be decomposed into 9 n-grams with length n=4: atcg, tcg_, cg_a, g_at, _att, attc, ttcg\n",
    "    * `\"exclude\"` (default) - it will exclude all n-grams with spaces, e.g. string \"atcg_attcg\" will be decomposed into 3 n-grams with length n=4: atcg, attc, ttcg\n",
    "    \n",
    "In the example below, `ngram_length` is the default (=4) and spaces are excluded from the alphabet."
   ]
  },
  {
   "cell_type": "code",
   "execution_count": 9,
   "id": "filled-vegetarian",
   "metadata": {},
   "outputs": [
    {
     "name": "stdout",
     "output_type": "stream",
     "text": [
      "Elapsed 7.034831762313843 seconds\n"
     ]
    }
   ],
   "source": [
    "started = time.time()\n",
    "x=representations.to_bag_of_words(space_treatment = \"exclude\")\n",
    "print(\"Elapsed\",time.time()-started, \"seconds\")"
   ]
  },
  {
   "cell_type": "code",
   "execution_count": 10,
   "id": "legendary-requirement",
   "metadata": {},
   "outputs": [
    {
     "data": {
      "text/plain": [
       "<10000x256 sparse matrix of type '<class 'numpy.int16'>'\n",
       "\twith 1939343 stored elements in Compressed Sparse Row format>"
      ]
     },
     "execution_count": 10,
     "metadata": {},
     "output_type": "execute_result"
    }
   ],
   "source": [
    "x"
   ]
  },
  {
   "cell_type": "markdown",
   "id": "f72c1b6a-e0e3-4183-a2ea-447645aea4e8",
   "metadata": {},
   "source": [
    "## Another example of Bag of words representation\n",
    "\n",
    "`ngram_length` is the default (=4) and spaces are included in the alphabet."
   ]
  },
  {
   "cell_type": "code",
   "execution_count": 11,
   "id": "banned-engineering",
   "metadata": {},
   "outputs": [
    {
     "name": "stdout",
     "output_type": "stream",
     "text": [
      "Elapsed 7.129010200500488 seconds\n"
     ]
    }
   ],
   "source": [
    "started = time.time()\n",
    "x=representations.to_bag_of_words(space_treatment = \"include\")\n",
    "print(\"Elapsed\",time.time()-started, \"seconds\")"
   ]
  },
  {
   "cell_type": "code",
   "execution_count": 12,
   "id": "236c0ee9-d2d8-40a9-8228-0c138572bed4",
   "metadata": {},
   "outputs": [
    {
     "data": {
      "text/plain": [
       "<10000x256 sparse matrix of type '<class 'numpy.int16'>'\n",
       "\twith 1939343 stored elements in Compressed Sparse Row format>"
      ]
     },
     "execution_count": 12,
     "metadata": {},
     "output_type": "execute_result"
    }
   ],
   "source": [
    "x"
   ]
  },
  {
   "cell_type": "markdown",
   "id": "c5462965-9dc4-4fa0-837d-607968a7ed8e",
   "metadata": {},
   "source": [
    "# K-mers\n",
    "\n",
    "Creating a k-mer representation and saving it to a file. A k-mer representation can only be stored in a file"
   ]
  },
  {
   "cell_type": "code",
   "execution_count": 13,
   "id": "compact-combination",
   "metadata": {},
   "outputs": [
    {
     "name": "stdout",
     "output_type": "stream",
     "text": [
      "0\n"
     ]
    }
   ],
   "source": [
    "representations.to_kmer(6, \"../DNABERT/subset.l_3072.6mer\", 3072)"
   ]
  },
  {
   "cell_type": "markdown",
   "id": "b1bb838a-2c05-4d39-bf7a-76c5866747f4",
   "metadata": {},
   "source": [
    "# Pandas representation\n",
    "\n",
    "Finally, creating representation in `pandas`. This is provided for the ease of handling, saving, viewing etc., **but rather not for Machine Learning purposes**. Also, it is rather time-consuming. Use with care."
   ]
  },
  {
   "cell_type": "code",
   "execution_count": 14,
   "id": "computational-cable",
   "metadata": {},
   "outputs": [
    {
     "name": "stderr",
     "output_type": "stream",
     "text": [
      "/scratch/szym/introns/noncanonical_introns/representation_wrapper.py:139: PerformanceWarning: DataFrame is highly fragmented.  This is usually the result of calling `frame.insert` many times, which has poor performance.  Consider joining all columns at once using pd.concat(axis=1) instead.  To get a de-fragmented frame, use `newframe = frame.copy()`\n",
      "  pandas_dataframe[\"label\"] = self.labels\n",
      "/scratch/szym/introns/noncanonical_introns/representation_wrapper.py:140: PerformanceWarning: DataFrame is highly fragmented.  This is usually the result of calling `frame.insert` many times, which has poor performance.  Consider joining all columns at once using pd.concat(axis=1) instead.  To get a de-fragmented frame, use `newframe = frame.copy()`\n",
      "  pandas_dataframe[\"length\"] = lengths\n"
     ]
    },
    {
     "name": "stdout",
     "output_type": "stream",
     "text": [
      "Elapsed 59.67077374458313 seconds\n"
     ]
    }
   ],
   "source": [
    "started = time.time()\n",
    "x=representations.to_pandas_dataframe()\n",
    "print(\"Elapsed\",time.time()-started, \"seconds\")"
   ]
  },
  {
   "cell_type": "code",
   "execution_count": 15,
   "id": "progressive-finland",
   "metadata": {},
   "outputs": [
    {
     "data": {
      "text/html": [
       "<div>\n",
       "<style scoped>\n",
       "    .dataframe tbody tr th:only-of-type {\n",
       "        vertical-align: middle;\n",
       "    }\n",
       "\n",
       "    .dataframe tbody tr th {\n",
       "        vertical-align: top;\n",
       "    }\n",
       "\n",
       "    .dataframe thead th {\n",
       "        text-align: right;\n",
       "    }\n",
       "</style>\n",
       "<table border=\"1\" class=\"dataframe\">\n",
       "  <thead>\n",
       "    <tr style=\"text-align: right;\">\n",
       "      <th></th>\n",
       "      <th>0</th>\n",
       "      <th>1</th>\n",
       "      <th>2</th>\n",
       "      <th>3</th>\n",
       "      <th>4</th>\n",
       "      <th>5</th>\n",
       "      <th>6</th>\n",
       "      <th>7</th>\n",
       "      <th>8</th>\n",
       "      <th>9</th>\n",
       "      <th>...</th>\n",
       "      <th>30260</th>\n",
       "      <th>30261</th>\n",
       "      <th>30262</th>\n",
       "      <th>30263</th>\n",
       "      <th>30264</th>\n",
       "      <th>30265</th>\n",
       "      <th>30266</th>\n",
       "      <th>30267</th>\n",
       "      <th>label</th>\n",
       "      <th>length</th>\n",
       "    </tr>\n",
       "  </thead>\n",
       "  <tbody>\n",
       "    <tr>\n",
       "      <th>Elonga_22251:22919_KX</th>\n",
       "      <td>G</td>\n",
       "      <td>T</td>\n",
       "      <td>G</td>\n",
       "      <td>T</td>\n",
       "      <td>T</td>\n",
       "      <td>G</td>\n",
       "      <td>C</td>\n",
       "      <td>T</td>\n",
       "      <td>T</td>\n",
       "      <td>T</td>\n",
       "      <td>...</td>\n",
       "      <td>NaN</td>\n",
       "      <td>NaN</td>\n",
       "      <td>NaN</td>\n",
       "      <td>NaN</td>\n",
       "      <td>NaN</td>\n",
       "      <td>NaN</td>\n",
       "      <td>NaN</td>\n",
       "      <td>NaN</td>\n",
       "      <td>0</td>\n",
       "      <td>668</td>\n",
       "    </tr>\n",
       "    <tr>\n",
       "      <th>Elonga_22976:24001_KX</th>\n",
       "      <td>G</td>\n",
       "      <td>T</td>\n",
       "      <td>G</td>\n",
       "      <td>C</td>\n",
       "      <td>G</td>\n",
       "      <td>T</td>\n",
       "      <td>T</td>\n",
       "      <td>G</td>\n",
       "      <td>C</td>\n",
       "      <td>C</td>\n",
       "      <td>...</td>\n",
       "      <td>NaN</td>\n",
       "      <td>NaN</td>\n",
       "      <td>NaN</td>\n",
       "      <td>NaN</td>\n",
       "      <td>NaN</td>\n",
       "      <td>NaN</td>\n",
       "      <td>NaN</td>\n",
       "      <td>NaN</td>\n",
       "      <td>0</td>\n",
       "      <td>1025</td>\n",
       "    </tr>\n",
       "    <tr>\n",
       "      <th>Elonga_25370:26395_KX</th>\n",
       "      <td>G</td>\n",
       "      <td>T</td>\n",
       "      <td>G</td>\n",
       "      <td>C</td>\n",
       "      <td>G</td>\n",
       "      <td>T</td>\n",
       "      <td>T</td>\n",
       "      <td>G</td>\n",
       "      <td>C</td>\n",
       "      <td>C</td>\n",
       "      <td>...</td>\n",
       "      <td>NaN</td>\n",
       "      <td>NaN</td>\n",
       "      <td>NaN</td>\n",
       "      <td>NaN</td>\n",
       "      <td>NaN</td>\n",
       "      <td>NaN</td>\n",
       "      <td>NaN</td>\n",
       "      <td>NaN</td>\n",
       "      <td>0</td>\n",
       "      <td>1025</td>\n",
       "    </tr>\n",
       "    <tr>\n",
       "      <th>Elonga_26452:27102_KX</th>\n",
       "      <td>G</td>\n",
       "      <td>T</td>\n",
       "      <td>G</td>\n",
       "      <td>T</td>\n",
       "      <td>T</td>\n",
       "      <td>G</td>\n",
       "      <td>C</td>\n",
       "      <td>T</td>\n",
       "      <td>T</td>\n",
       "      <td>T</td>\n",
       "      <td>...</td>\n",
       "      <td>NaN</td>\n",
       "      <td>NaN</td>\n",
       "      <td>NaN</td>\n",
       "      <td>NaN</td>\n",
       "      <td>NaN</td>\n",
       "      <td>NaN</td>\n",
       "      <td>NaN</td>\n",
       "      <td>NaN</td>\n",
       "      <td>0</td>\n",
       "      <td>650</td>\n",
       "    </tr>\n",
       "    <tr>\n",
       "      <th>Elonga_25370:26395_KX</th>\n",
       "      <td>G</td>\n",
       "      <td>T</td>\n",
       "      <td>G</td>\n",
       "      <td>C</td>\n",
       "      <td>G</td>\n",
       "      <td>T</td>\n",
       "      <td>T</td>\n",
       "      <td>G</td>\n",
       "      <td>C</td>\n",
       "      <td>C</td>\n",
       "      <td>...</td>\n",
       "      <td>NaN</td>\n",
       "      <td>NaN</td>\n",
       "      <td>NaN</td>\n",
       "      <td>NaN</td>\n",
       "      <td>NaN</td>\n",
       "      <td>NaN</td>\n",
       "      <td>NaN</td>\n",
       "      <td>NaN</td>\n",
       "      <td>0</td>\n",
       "      <td>1025</td>\n",
       "    </tr>\n",
       "    <tr>\n",
       "      <th>...</th>\n",
       "      <td>...</td>\n",
       "      <td>...</td>\n",
       "      <td>...</td>\n",
       "      <td>...</td>\n",
       "      <td>...</td>\n",
       "      <td>...</td>\n",
       "      <td>...</td>\n",
       "      <td>...</td>\n",
       "      <td>...</td>\n",
       "      <td>...</td>\n",
       "      <td>...</td>\n",
       "      <td>...</td>\n",
       "      <td>...</td>\n",
       "      <td>...</td>\n",
       "      <td>...</td>\n",
       "      <td>...</td>\n",
       "      <td>...</td>\n",
       "      <td>...</td>\n",
       "      <td>...</td>\n",
       "      <td>...</td>\n",
       "      <td>...</td>\n",
       "    </tr>\n",
       "    <tr>\n",
       "      <th>Elonga_21743:23524_XX</th>\n",
       "      <td>A</td>\n",
       "      <td>T</td>\n",
       "      <td>C</td>\n",
       "      <td>C</td>\n",
       "      <td>T</td>\n",
       "      <td>G</td>\n",
       "      <td>G</td>\n",
       "      <td>A</td>\n",
       "      <td>A</td>\n",
       "      <td>C</td>\n",
       "      <td>...</td>\n",
       "      <td>NaN</td>\n",
       "      <td>NaN</td>\n",
       "      <td>NaN</td>\n",
       "      <td>NaN</td>\n",
       "      <td>NaN</td>\n",
       "      <td>NaN</td>\n",
       "      <td>NaN</td>\n",
       "      <td>NaN</td>\n",
       "      <td>1</td>\n",
       "      <td>1781</td>\n",
       "    </tr>\n",
       "    <tr>\n",
       "      <th>Elonga_21743:23524_XX</th>\n",
       "      <td>A</td>\n",
       "      <td>T</td>\n",
       "      <td>C</td>\n",
       "      <td>C</td>\n",
       "      <td>T</td>\n",
       "      <td>G</td>\n",
       "      <td>G</td>\n",
       "      <td>A</td>\n",
       "      <td>A</td>\n",
       "      <td>C</td>\n",
       "      <td>...</td>\n",
       "      <td>NaN</td>\n",
       "      <td>NaN</td>\n",
       "      <td>NaN</td>\n",
       "      <td>NaN</td>\n",
       "      <td>NaN</td>\n",
       "      <td>NaN</td>\n",
       "      <td>NaN</td>\n",
       "      <td>NaN</td>\n",
       "      <td>1</td>\n",
       "      <td>1781</td>\n",
       "    </tr>\n",
       "    <tr>\n",
       "      <th>Elonga_21743:23524_XX</th>\n",
       "      <td>A</td>\n",
       "      <td>T</td>\n",
       "      <td>C</td>\n",
       "      <td>C</td>\n",
       "      <td>T</td>\n",
       "      <td>G</td>\n",
       "      <td>G</td>\n",
       "      <td>A</td>\n",
       "      <td>A</td>\n",
       "      <td>C</td>\n",
       "      <td>...</td>\n",
       "      <td>NaN</td>\n",
       "      <td>NaN</td>\n",
       "      <td>NaN</td>\n",
       "      <td>NaN</td>\n",
       "      <td>NaN</td>\n",
       "      <td>NaN</td>\n",
       "      <td>NaN</td>\n",
       "      <td>NaN</td>\n",
       "      <td>1</td>\n",
       "      <td>1781</td>\n",
       "    </tr>\n",
       "    <tr>\n",
       "      <th>Elonga_21743:23524_XX</th>\n",
       "      <td>A</td>\n",
       "      <td>T</td>\n",
       "      <td>C</td>\n",
       "      <td>C</td>\n",
       "      <td>T</td>\n",
       "      <td>G</td>\n",
       "      <td>G</td>\n",
       "      <td>A</td>\n",
       "      <td>A</td>\n",
       "      <td>C</td>\n",
       "      <td>...</td>\n",
       "      <td>NaN</td>\n",
       "      <td>NaN</td>\n",
       "      <td>NaN</td>\n",
       "      <td>NaN</td>\n",
       "      <td>NaN</td>\n",
       "      <td>NaN</td>\n",
       "      <td>NaN</td>\n",
       "      <td>NaN</td>\n",
       "      <td>1</td>\n",
       "      <td>1781</td>\n",
       "    </tr>\n",
       "    <tr>\n",
       "      <th>Elonga_16847:17365_XN</th>\n",
       "      <td>A</td>\n",
       "      <td>A</td>\n",
       "      <td>C</td>\n",
       "      <td>C</td>\n",
       "      <td>T</td>\n",
       "      <td>T</td>\n",
       "      <td>G</td>\n",
       "      <td>G</td>\n",
       "      <td>G</td>\n",
       "      <td>A</td>\n",
       "      <td>...</td>\n",
       "      <td>NaN</td>\n",
       "      <td>NaN</td>\n",
       "      <td>NaN</td>\n",
       "      <td>NaN</td>\n",
       "      <td>NaN</td>\n",
       "      <td>NaN</td>\n",
       "      <td>NaN</td>\n",
       "      <td>NaN</td>\n",
       "      <td>1</td>\n",
       "      <td>518</td>\n",
       "    </tr>\n",
       "  </tbody>\n",
       "</table>\n",
       "<p>10000 rows × 30270 columns</p>\n",
       "</div>"
      ],
      "text/plain": [
       "                       0  1  2  3  4  5  6  7  8  9  ... 30260 30261 30262  \\\n",
       "Elonga_22251:22919_KX  G  T  G  T  T  G  C  T  T  T  ...   NaN   NaN   NaN   \n",
       "Elonga_22976:24001_KX  G  T  G  C  G  T  T  G  C  C  ...   NaN   NaN   NaN   \n",
       "Elonga_25370:26395_KX  G  T  G  C  G  T  T  G  C  C  ...   NaN   NaN   NaN   \n",
       "Elonga_26452:27102_KX  G  T  G  T  T  G  C  T  T  T  ...   NaN   NaN   NaN   \n",
       "Elonga_25370:26395_KX  G  T  G  C  G  T  T  G  C  C  ...   NaN   NaN   NaN   \n",
       "...                   .. .. .. .. .. .. .. .. .. ..  ...   ...   ...   ...   \n",
       "Elonga_21743:23524_XX  A  T  C  C  T  G  G  A  A  C  ...   NaN   NaN   NaN   \n",
       "Elonga_21743:23524_XX  A  T  C  C  T  G  G  A  A  C  ...   NaN   NaN   NaN   \n",
       "Elonga_21743:23524_XX  A  T  C  C  T  G  G  A  A  C  ...   NaN   NaN   NaN   \n",
       "Elonga_21743:23524_XX  A  T  C  C  T  G  G  A  A  C  ...   NaN   NaN   NaN   \n",
       "Elonga_16847:17365_XN  A  A  C  C  T  T  G  G  G  A  ...   NaN   NaN   NaN   \n",
       "\n",
       "                      30263 30264 30265 30266 30267 label length  \n",
       "Elonga_22251:22919_KX   NaN   NaN   NaN   NaN   NaN     0    668  \n",
       "Elonga_22976:24001_KX   NaN   NaN   NaN   NaN   NaN     0   1025  \n",
       "Elonga_25370:26395_KX   NaN   NaN   NaN   NaN   NaN     0   1025  \n",
       "Elonga_26452:27102_KX   NaN   NaN   NaN   NaN   NaN     0    650  \n",
       "Elonga_25370:26395_KX   NaN   NaN   NaN   NaN   NaN     0   1025  \n",
       "...                     ...   ...   ...   ...   ...   ...    ...  \n",
       "Elonga_21743:23524_XX   NaN   NaN   NaN   NaN   NaN     1   1781  \n",
       "Elonga_21743:23524_XX   NaN   NaN   NaN   NaN   NaN     1   1781  \n",
       "Elonga_21743:23524_XX   NaN   NaN   NaN   NaN   NaN     1   1781  \n",
       "Elonga_21743:23524_XX   NaN   NaN   NaN   NaN   NaN     1   1781  \n",
       "Elonga_16847:17365_XN   NaN   NaN   NaN   NaN   NaN     1    518  \n",
       "\n",
       "[10000 rows x 30270 columns]"
      ]
     },
     "execution_count": 15,
     "metadata": {},
     "output_type": "execute_result"
    }
   ],
   "source": [
    "x"
   ]
  }
 ],
 "metadata": {
  "kernelspec": {
   "display_name": "Python 3 (ipykernel)",
   "language": "python",
   "name": "python3"
  },
  "language_info": {
   "codemirror_mode": {
    "name": "ipython",
    "version": 3
   },
   "file_extension": ".py",
   "mimetype": "text/x-python",
   "name": "python",
   "nbconvert_exporter": "python",
   "pygments_lexer": "ipython3",
   "version": "3.8.10"
  }
 },
 "nbformat": 4,
 "nbformat_minor": 5
}
